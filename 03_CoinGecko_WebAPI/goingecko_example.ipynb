{
 "cells": [
  {
   "cell_type": "markdown",
   "id": "unexpected-restoration",
   "metadata": {},
   "source": [
    "# CoinGecko REST API: extracting crypto currency data"
   ]
  },
  {
   "cell_type": "markdown",
   "id": "5d93dfe3",
   "metadata": {},
   "source": [
    "## Libraries and settings"
   ]
  },
  {
   "cell_type": "code",
   "execution_count": 1,
   "id": "e086cd70",
   "metadata": {},
   "outputs": [
    {
     "name": "stdout",
     "output_type": "stream",
     "text": [
      "Current working directory: /workspaces/data_ingestion/03_CoinGecko_WebAPI\n"
     ]
    }
   ],
   "source": [
    "# Libraries\n",
    "import os\n",
    "import locale\n",
    "import pandas as pd\n",
    "locale.setlocale(locale.LC_ALL,\"\")\n",
    "\n",
    "import matplotlib.pyplot as plt\n",
    "\n",
    "# Define settings for graphics\n",
    "# plt.style.use('dark_background')\n",
    "\n",
    "from pycoingecko import CoinGeckoAPI\n",
    "cg = CoinGeckoAPI()\n",
    "\n",
    "# Settings\n",
    "import warnings\n",
    "warnings.filterwarnings(\"ignore\")\n",
    "\n",
    "# Current working directory\n",
    "print(f'Current working directory: {os.getcwd()}')"
   ]
  },
  {
   "cell_type": "markdown",
   "id": "f52ba0c0",
   "metadata": {},
   "source": [
    "## Get data"
   ]
  },
  {
   "cell_type": "code",
   "execution_count": 2,
   "id": "administrative-robin",
   "metadata": {},
   "outputs": [
    {
     "data": {
      "text/plain": [
       "{'bitcoin': {'usd': 76202}}"
      ]
     },
     "execution_count": 2,
     "metadata": {},
     "output_type": "execute_result"
    }
   ],
   "source": [
    "# Simple price endpoint with the required parameters\n",
    "cg.get_price(ids='bitcoin', vs_currencies='usd')"
   ]
  },
  {
   "cell_type": "code",
   "execution_count": 3,
   "id": "above-train",
   "metadata": {},
   "outputs": [
    {
     "data": {
      "text/plain": [
       "{'bitcoin': {'usd': 76283},\n",
       " 'dogecoin': {'usd': 0.206967},\n",
       " 'ethereum': {'usd': 3031.81},\n",
       " 'near': {'usd': 4.33}}"
      ]
     },
     "execution_count": 3,
     "metadata": {},
     "output_type": "execute_result"
    }
   ],
   "source": [
    "# Multiple arguments (USD)\n",
    "cg.get_price(ids=['bitcoin', 'near', 'ethereum', 'dogecoin'], vs_currencies='usd')"
   ]
  },
  {
   "cell_type": "code",
   "execution_count": 4,
   "id": "southeast-checklist",
   "metadata": {},
   "outputs": [
    {
     "data": {
      "text/plain": [
       "{'bitcoin': {'usd': 76283, 'eur': 71170},\n",
       " 'dogecoin': {'usd': 0.206967, 'eur': 0.193093},\n",
       " 'ethereum': {'usd': 3031.81, 'eur': 2828.58},\n",
       " 'near': {'usd': 4.33, 'eur': 4.04}}"
      ]
     },
     "execution_count": 4,
     "metadata": {},
     "output_type": "execute_result"
    }
   ],
   "source": [
    "# Multiple arguments (USD & EUR)\n",
    "cg.get_price(ids=['bitcoin', 'near', 'ethereum, dogecoin'], vs_currencies=['usd', 'eur'])"
   ]
  },
  {
   "cell_type": "code",
   "execution_count": 5,
   "id": "single-sensitivity",
   "metadata": {},
   "outputs": [
    {
     "data": {
      "text/plain": [
       "{'bitcoin': {'usd': 76284,\n",
       "  'usd_market_cap': 1508541848365.613,\n",
       "  'usd_24h_vol': 38147000178.670166,\n",
       "  'usd_24h_change': -0.2509166176076118,\n",
       "  'last_updated_at': 1731175168},\n",
       " 'dogecoin': {'usd': 0.206967,\n",
       "  'usd_market_cap': 30320823538.02253,\n",
       "  'usd_24h_vol': 4876268700.45758,\n",
       "  'usd_24h_change': 7.123194220402978,\n",
       "  'last_updated_at': 1731175161},\n",
       " 'ethereum': {'usd': 3031.81,\n",
       "  'usd_market_cap': 364517066367.79987,\n",
       "  'usd_24h_vol': 30998808711.69688,\n",
       "  'usd_24h_change': 3.7628841431058997,\n",
       "  'last_updated_at': 1731175168},\n",
       " 'near': {'usd': 4.33,\n",
       "  'usd_market_cap': 5270598750.615565,\n",
       "  'usd_24h_vol': 398879457.47771126,\n",
       "  'usd_24h_change': 2.121774450454679,\n",
       "  'last_updated_at': 1731175163}}"
      ]
     },
     "execution_count": 5,
     "metadata": {},
     "output_type": "execute_result"
    }
   ],
   "source": [
    "# Pass optional parameters as defined in the API doc (https://www.coingecko.com/api/docs/v3)\n",
    "data = cg.get_price( ids='bitcoin, near, ethereum, dogecoin', \n",
    "                     vs_currencies='usd', \n",
    "                     include_market_cap='true', \n",
    "                     include_24hr_vol='true', \n",
    "                     include_24hr_change='true', \n",
    "                     include_last_updated_at='true')\n",
    "data"
   ]
  },
  {
   "cell_type": "code",
   "execution_count": 6,
   "id": "negative-allah",
   "metadata": {},
   "outputs": [
    {
     "name": "stdout",
     "output_type": "stream",
     "text": [
      "['bitcoin', 'dogecoin', 'ethereum', 'near']\n",
      "----------------\n",
      "bitcoin\n",
      "76284\n"
     ]
    }
   ],
   "source": [
    "# Extract single values\n",
    "names = list(data.keys())\n",
    "print(names)\n",
    "print(\"----------------\")\n",
    "\n",
    "# Price of the first element in list\n",
    "print(names[0])\n",
    "print(data[names[0]][\"usd\"])"
   ]
  },
  {
   "cell_type": "markdown",
   "id": "5cb610cf",
   "metadata": {},
   "source": [
    "## Extract and plot data"
   ]
  },
  {
   "cell_type": "code",
   "execution_count": 7,
   "id": "surgical-germany",
   "metadata": {},
   "outputs": [
    {
     "name": "stdout",
     "output_type": "stream",
     "text": [
      "       Name     Value\n",
      "0   bitcoin  76284.00\n",
      "2  ethereum   3031.81\n",
      "3      near      4.33\n",
      "1  dogecoin      0.21\n"
     ]
    }
   ],
   "source": [
    "# Keys from dictionary\n",
    "names = list(data.keys())\n",
    "\n",
    "# Get values from dictionary and format to 2 decimal places\n",
    "values = []\n",
    "for i in range(len(names)):\n",
    "    vals = data[names[i]][\"usd\"]\n",
    "    formatted_val = f'{vals:.2f}'\n",
    "    values.append(formatted_val)\n",
    "\n",
    "# Create DataFrame\n",
    "df = pd.DataFrame({\n",
    "    'Name': names,\n",
    "    'Value': values})\n",
    "\n",
    "# Convert 'Value' column to numeric\n",
    "df['Value'] = pd.to_numeric(df['Value'])\n",
    "\n",
    "# Sort DataFrame by 'Value' in descending order\n",
    "df = df.sort_values(by='Value', ascending=False)\n",
    "\n",
    "print(df)"
   ]
  },
  {
   "cell_type": "code",
   "execution_count": 8,
   "id": "juvenile-huntington",
   "metadata": {},
   "outputs": [
    {
     "data": {
      "image/png": "[encoded data removed]",
      "text/plain": [
       "<Figure size 600x400 with 1 Axes>"
      ]
     },
     "metadata": {},
     "output_type": "display_data"
    }
   ],
   "source": [
    "# Create bar chart\n",
    "plt.figure(figsize=(6, 4))\n",
    "bars = plt.bar(df['Name'], df['Value'], color='greenyellow')\n",
    "plt.xlabel('Name')\n",
    "plt.ylabel('Value')\n",
    "plt.title('Bar Chart of Values')\n",
    "plt.xticks(rotation=45, ha='right')\n",
    "\n",
    "# Add values on top of bars\n",
    "for bar in bars:\n",
    "    yval = bar.get_height()\n",
    "    plt.text(bar.get_x() + bar.get_width()/2, \n",
    "             yval + 0.05, f'{yval:.2f}', \n",
    "             ha='center', \n",
    "             va='bottom')\n",
    "plt.show()"
   ]
  },
  {
   "cell_type": "markdown",
   "id": "8cd702ad",
   "metadata": {},
   "source": [
    "### Aufgabe: Arbeiten mit der CoinGecko API und Umwandlung von verschachtelten Datenstrukturen in ein DataFrame\n",
    "#### Beschreibung\n",
    "\n",
    "- In dieser Aufgabe sollst du Daten für mehrere Kryptowährungen (z.B. Bitcoin, Ethereum, Dogecoin) von der CoinGecko-API abrufen und in ein DataFrame umwandeln. Die API liefert die Daten in einem Dictionary, das du analysieren und in eine tabellarische Form konvertieren musst.\n",
    "Anforderungen\n",
    "\n",
    "    1. Abrufen der Daten: Verwende die CoinGecko-API, um Daten für die Kryptowährungen Bitcoin, Ethereum und Dogecoin in USD abzurufen.\n",
    "        - Die API soll zusätzlich die Marktkapitalisierung, das Handelsvolumen und die 24-Stunden-Preisänderung liefern.\n",
    "\n",
    "    2. Struktur verstehen: Analysiere die zurückgegebenen Daten. Die API liefert die Daten als Dictionary mit mehreren verschachtelten Ebenen. Achte darauf, wie die Daten organisiert sind.\n",
    "\n",
    "    3. Daten umwandeln: Wandle die Daten in ein Pandas DataFrame um, sodass jede Kryptowährung eine eigene Zeile hat und die Informationen zu Preis, Marktkapitalisierung, Handelsvolumen und Preisänderung in separaten Spalten stehen.\n",
    "\n",
    "    4. Daten anzeigen: Sortiere das DataFrame nach dem Preis und zeige es an.\n",
    "\n",
    "#### Lösungsschritte"
   ]
  },
  {
   "cell_type": "code",
   "execution_count": 2,
   "id": "5074c78e",
   "metadata": {},
   "outputs": [
    {
     "name": "stdout",
     "output_type": "stream",
     "text": [
      "Datenstruktur des API-Antworts (Dictionary):\n",
      "{'bitcoin': {'usd': 79864, 'usd_market_cap': 1578951613710.8547, 'usd_24h_vol': 64068741393.891396, 'usd_24h_change': 4.644471656517865}, 'dogecoin': {'usd': 0.247907, 'usd_market_cap': 36292342888.28991, 'usd_24h_vol': 8843411323.753397, 'usd_24h_change': 20.72207513763627}, 'ethereum': {'usd': 3207.12, 'usd_market_cap': 386176513982.4712, 'usd_24h_vol': 38883400043.315, 'usd_24h_change': 5.46057774650883}}\n"
     ]
    }
   ],
   "source": [
    "# Schritt 1: Bibliotheken importieren\n",
    "import pandas as pd\n",
    "from pycoingecko import CoinGeckoAPI\n",
    "\n",
    "# Schritt 2: Verbindung zur CoinGecko-API herstellen\n",
    "cg = CoinGeckoAPI()\n",
    "\n",
    "# Schritt 3: Abrufen der Daten für Bitcoin, Ethereum und Dogecoin mit zusätzlichen Informationen\n",
    "# (Marktkapitalisierung, Handelsvolumen und 24-Stunden-Preisänderung)\n",
    "data = cg.get_price(\n",
    "    ids=['bitcoin', 'ethereum', 'dogecoin'],\n",
    "    vs_currencies='usd',\n",
    "    include_market_cap='true',\n",
    "    include_24hr_vol='true',\n",
    "    include_24hr_change='true'\n",
    ")\n",
    "\n",
    "# Schritt 4: Analyse der Datenstruktur\n",
    "# data ist ein verschachteltes Dictionary, das die Daten für jede Kryptowährung enthält.\n",
    "# Wir können die Struktur prüfen, indem wir das Dictionary ausgeben.\n",
    "print(\"Datenstruktur des API-Antworts (Dictionary):\")\n",
    "print(data)"
   ]
  },
  {
   "cell_type": "code",
   "execution_count": 3,
   "id": "5e891cdd",
   "metadata": {},
   "outputs": [
    {
     "name": "stdout",
     "output_type": "stream",
     "text": [
      "\n",
      "Tabellarische Darstellung der Kryptowährungsdaten:\n",
      "           Price (USD)  Market Cap (USD)  24h Volume (USD)  24h Change (%)\n",
      "bitcoin   79864.000000      1.578952e+12      6.406874e+10        4.644472\n",
      "ethereum   3207.120000      3.861765e+11      3.888340e+10        5.460578\n",
      "dogecoin      0.247907      3.629234e+10      8.843411e+09       20.722075\n"
     ]
    }
   ],
   "source": [
    "# Schritt 5: Umwandeln in ein DataFrame\n",
    "# Jede Kryptowährung wird als Zeile im DataFrame dargestellt, und wir extrahieren die relevanten Informationen.\n",
    "df = pd.DataFrame(data).T  # Transponieren, damit die Kryptowährungen als Zeilen angezeigt werden\n",
    "\n",
    "# Schritt 6: Spalten umbenennen\n",
    "df.columns = ['Price (USD)', 'Market Cap (USD)', '24h Volume (USD)', '24h Change (%)']\n",
    "\n",
    "# Schritt 7: Sortieren des DataFrames nach Preis in absteigender Reihenfolge\n",
    "df = df.sort_values(by='Price (USD)', ascending=False)\n",
    "\n",
    "# Schritt 8: Ausgabe des DataFrames\n",
    "print(\"\\nTabellarische Darstellung der Kryptowährungsdaten:\")\n",
    "print(df)"
   ]
  },
  {
   "attachments": {},
   "cell_type": "markdown",
   "id": "cd71fca9",
   "metadata": {},
   "source": [
    "### Jupyter notebook --footer info-- (please always provide this at the end of each notebook)"
   ]
  },
  {
   "cell_type": "code",
   "execution_count": 9,
   "id": "23004277",
   "metadata": {},
   "outputs": [
    {
     "name": "stdout",
     "output_type": "stream",
     "text": [
      "-----------------------------------\n",
      "POSIX\n",
      "Linux | 6.5.0-1025-azure\n",
      "Datetime: 2024-11-09 17:59:29\n",
      "Python Version: 3.11.10\n",
      "-----------------------------------\n"
     ]
    }
   ],
   "source": [
    "import os\n",
    "import platform\n",
    "import socket\n",
    "from platform import python_version\n",
    "from datetime import datetime\n",
    "\n",
    "print('-----------------------------------')\n",
    "print(os.name.upper())\n",
    "print(platform.system(), '|', platform.release())\n",
    "print('Datetime:', datetime.now().strftime(\"%Y-%m-%d %H:%M:%S\"))\n",
    "print('Python Version:', python_version())\n",
    "print('-----------------------------------')"
   ]
  }
 ],
 "metadata": {
  "kernelspec": {
   "display_name": "Python 3",
   "language": "python",
   "name": "python3"
  },
  "language_info": {
   "codemirror_mode": {
    "name": "ipython",
    "version": 3
   },
   "file_extension": ".py",
   "mimetype": "text/x-python",
   "name": "python",
   "nbconvert_exporter": "python",
   "pygments_lexer": "ipython3",
   "version": "3.11.10"
  },
  "toc": {
   "base_numbering": 1,
   "nav_menu": {},
   "number_sections": true,
   "sideBar": true,
   "skip_h1_title": false,
   "title_cell": "Table of Contents",
   "title_sidebar": "Contents",
   "toc_cell": false,
   "toc_position": {},
   "toc_section_display": true,
   "toc_window_display": false
  }
 },
 "nbformat": 4,
 "nbformat_minor": 5
}
