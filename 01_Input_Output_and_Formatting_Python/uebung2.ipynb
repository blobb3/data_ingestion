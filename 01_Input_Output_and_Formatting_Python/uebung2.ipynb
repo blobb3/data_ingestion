{
 "cells": [
  {
   "cell_type": "markdown",
   "metadata": {},
   "source": [
    "# Uebung 2"
   ]
  },
  {
   "cell_type": "markdown",
   "metadata": {},
   "source": [
    "### String Formatting in Pyhton\n",
    "\n",
    "#### Aufgabe 1: Verschiedene String-Formatierungen\n",
    "\n",
    "- Verwenden Sie die %-Formatierung, str.format() und f-Strings, um folgende Nachricht zu erstellen:\n",
    "\n",
    "    - \"Hallo, Max! Du hast 3 neue Nachrichten.\"\n",
    "\n",
    "- name = \"Max\"\n",
    "- messages = 3"
   ]
  },
  {
   "cell_type": "code",
   "execution_count": 2,
   "metadata": {},
   "outputs": [
    {
     "name": "stdout",
     "output_type": "stream",
     "text": [
      "Hallo, Max! Du hast 3 neue Nachrichten.\n",
      "Hallo, Max! Du hast 3 neue Nachrichten.\n",
      "Hallo, Max! Du hast 3 neue Nachrichten.\n"
     ]
    }
   ],
   "source": [
    "name = \"Max\"\n",
    "messages = 3\n",
    "\n",
    "# %-Formatierung\n",
    "print(\"Hallo, %s! Du hast %d neue Nachrichten.\" % (name, messages))\n",
    "\n",
    "# str.format()\n",
    "print(\"Hallo, {}! Du hast {} neue Nachrichten.\".format(name, messages))\n",
    "\n",
    "# f-Strings\n",
    "print(f\"Hallo, {name}! Du hast {messages} neue Nachrichten.\")\n"
   ]
  },
  {
   "cell_type": "markdown",
   "metadata": {},
   "source": [
    "#### Aufgabe 2: Formatieren von Fließkommazahlen und Zahlen mit Auffüllung\n",
    "\n",
    "- Formatieren Sie die Zahl pi = 3.141592653589793 auf zwei Dezimalstellen und die Zahl value = 42 als dreistellige Zahl mit führenden Nullen."
   ]
  },
  {
   "cell_type": "code",
   "execution_count": null,
   "metadata": {},
   "outputs": [
    {
     "name": "stdout",
     "output_type": "stream",
     "text": [
      "3.14\n",
      "042\n"
     ]
    }
   ],
   "source": [
    "pi = 3.141592653589793\n",
    "value = 42\n",
    "\n",
    "# Zwei Dezimalstellen\n",
    "print(f\"{pi:.2f}\")\n",
    "\n",
    "# Dreistellige Zahl mit führenden Nullen\n",
    "print(f\"{value:03}\")"
   ]
  },
  {
   "cell_type": "markdown",
   "metadata": {},
   "source": [
    "### Date and Time Manipulation\n",
    "#### Aufgabe 1: Erstellen und Anzeigen von Datum und Zeit\n",
    "\n",
    "- Erstellen Sie ein Datum für den 1. Januar 2023 und eine Zeit um 14:30 Uhr, sowie ein datetime-Objekt für den 1. Januar 2023 um 14:30 Uhr. Geben Sie diese Werte im Format YYYY-MM-DD HH:MM:SS aus."
   ]
  },
  {
   "cell_type": "code",
   "execution_count": 4,
   "metadata": {},
   "outputs": [
    {
     "name": "stdout",
     "output_type": "stream",
     "text": [
      "2023-01-01\n",
      "14:30:00\n",
      "2023-01-01 14:30:00\n"
     ]
    }
   ],
   "source": [
    "from datetime import date, time, datetime\n",
    "\n",
    "# Datum\n",
    "datum = date(2023, 1, 1)\n",
    "print(datum)\n",
    "\n",
    "# Zeit\n",
    "uhrzeit = time(14, 30)\n",
    "print(uhrzeit)\n",
    "\n",
    "# Datetime\n",
    "datum_uhrzeit = datetime(2023, 1, 1, 14, 30)\n",
    "print(datum_uhrzeit.strftime('%Y-%m-%d %H:%M:%S'))\n"
   ]
  },
  {
   "cell_type": "markdown",
   "metadata": {},
   "source": [
    "#### Aufgabe 2: Datums- und Zeitberechnung\n",
    "\n",
    "- Berechnen Sie die Differenz zwischen dem heutigen Datum und dem 1. Januar 2022 in Tagen."
   ]
  },
  {
   "cell_type": "code",
   "execution_count": 5,
   "metadata": {},
   "outputs": [
    {
     "name": "stdout",
     "output_type": "stream",
     "text": [
      "Anzahl der Tage: 1044\n"
     ]
    }
   ],
   "source": [
    "from datetime import date\n",
    "\n",
    "heute = date.today()\n",
    "vergangenes_datum = date(2022, 1, 1)\n",
    "\n",
    "differenz = heute - vergangenes_datum\n",
    "print(f\"Anzahl der Tage: {differenz.days}\")\n"
   ]
  },
  {
   "cell_type": "markdown",
   "metadata": {},
   "source": [
    "#### Aufgabe 3: Zeitzonen konvertieren\n",
    "\n",
    "- Erstellen Sie ein datetime-Objekt für das aktuelle Datum und die aktuelle Uhrzeit und konvertieren Sie es in die Zeitzone America/New_York."
   ]
  },
  {
   "cell_type": "code",
   "execution_count": 6,
   "metadata": {},
   "outputs": [
    {
     "name": "stdout",
     "output_type": "stream",
     "text": [
      "2024-11-10 08:39:40 EST-0500\n"
     ]
    }
   ],
   "source": [
    "from datetime import datetime\n",
    "import pytz\n",
    "\n",
    "# Aktuelle Zeit\n",
    "jetzt = datetime.now()\n",
    "\n",
    "# Konvertieren in New York Zeitzone\n",
    "ny_tz = pytz.timezone(\"America/New_York\")\n",
    "new_york_zeit = jetzt.astimezone(ny_tz)\n",
    "print(new_york_zeit.strftime('%Y-%m-%d %H:%M:%S %Z%z'))\n"
   ]
  },
  {
   "cell_type": "markdown",
   "metadata": {},
   "source": [
    "#### Aufgabe 4: Datum und Zeit formatieren\n",
    "\n",
    "- Formatieren Sie das heutige Datum im Format Tag.Monat.Jahr und die aktuelle Uhrzeit im Format Stunde:Minute."
   ]
  },
  {
   "cell_type": "code",
   "execution_count": 7,
   "metadata": {},
   "outputs": [
    {
     "name": "stdout",
     "output_type": "stream",
     "text": [
      "10.11.2024\n",
      "13:40\n"
     ]
    }
   ],
   "source": [
    "heute = datetime.now()\n",
    "print(heute.strftime(\"%d.%m.%Y\"))\n",
    "print(heute.strftime(\"%H:%M\"))\n"
   ]
  },
  {
   "cell_type": "markdown",
   "metadata": {},
   "source": [
    "### 3. Numeric Notations\n",
    "#### Aufgabe: Zahlendarstellung in verschiedenen Notationen\n",
    "\n",
    "- Geben Sie die Zahl value = 255 in hexadezimaler, oktaler und wissenschaftlicher Notation aus."
   ]
  },
  {
   "cell_type": "code",
   "execution_count": 8,
   "metadata": {},
   "outputs": [
    {
     "name": "stdout",
     "output_type": "stream",
     "text": [
      "Hexadezimal: ff\n",
      "Oktal: 377\n",
      "Wissenschaftlich: 2.550000e+02\n"
     ]
    }
   ],
   "source": [
    "value = 255\n",
    "\n",
    "# Hexadezimal\n",
    "print(f\"Hexadezimal: {value:x}\")\n",
    "\n",
    "# Oktal\n",
    "print(f\"Oktal: {value:o}\")\n",
    "\n",
    "# Wissenschaftlich\n",
    "print(f\"Wissenschaftlich: {value:e}\")\n"
   ]
  },
  {
   "cell_type": "markdown",
   "metadata": {},
   "source": [
    "### Data Validation und File Checks"
   ]
  },
  {
   "cell_type": "markdown",
   "metadata": {},
   "source": [
    "### Aufgabe 1: Dateiprüfung mit regulären Ausdrücken\n",
    "\n",
    "- Überprüfen Sie, ob eine Datei mit dem Namen data.csv im aktuellen Verzeichnis existiert."
   ]
  },
  {
   "cell_type": "code",
   "execution_count": 10,
   "metadata": {},
   "outputs": [
    {
     "name": "stdout",
     "output_type": "stream",
     "text": [
      "Die Datei existiert.\n"
     ]
    }
   ],
   "source": [
    "import os\n",
    "import re\n",
    "\n",
    "dateiname = \"sales_data.csv\"\n",
    "if any(re.match(dateiname, f) for f in os.listdir('.')):\n",
    "    print(\"Die Datei existiert.\")\n",
    "else:\n",
    "    print(\"Die Datei existiert nicht.\")\n"
   ]
  },
  {
   "cell_type": "markdown",
   "metadata": {},
   "source": [
    "#### Aufgabe 2: Überprüfung des Datei-Existenz nach Schreiboperation\n",
    "\n",
    "- Schreiben Sie einen Text in eine Datei output.txt und überprüfen Sie, ob die Datei danach im Verzeichnis existiert."
   ]
  },
  {
   "cell_type": "code",
   "execution_count": 11,
   "metadata": {},
   "outputs": [
    {
     "name": "stdout",
     "output_type": "stream",
     "text": [
      "Die Datei wurde erfolgreich erstellt.\n"
     ]
    }
   ],
   "source": [
    "dateiname = \"output.txt\"\n",
    "\n",
    "# Schreibe in die Datei\n",
    "with open(dateiname, 'w') as file:\n",
    "    file.write(\"Dies ist ein Testinhalt.\")\n",
    "\n",
    "# Überprüfe, ob die Datei existiert\n",
    "if os.path.isfile(dateiname):\n",
    "    print(\"Die Datei wurde erfolgreich erstellt.\")\n",
    "else:\n",
    "    print(\"Die Datei wurde nicht erstellt.\")\n"
   ]
  },
  {
   "cell_type": "markdown",
   "metadata": {},
   "source": [
    "THE END"
   ]
  }
 ],
 "metadata": {
  "kernelspec": {
   "display_name": "Python 3",
   "language": "python",
   "name": "python3"
  },
  "language_info": {
   "codemirror_mode": {
    "name": "ipython",
    "version": 3
   },
   "file_extension": ".py",
   "mimetype": "text/x-python",
   "name": "python",
   "nbconvert_exporter": "python",
   "pygments_lexer": "ipython3",
   "version": "3.11.10"
  }
 },
 "nbformat": 4,
 "nbformat_minor": 2
}
