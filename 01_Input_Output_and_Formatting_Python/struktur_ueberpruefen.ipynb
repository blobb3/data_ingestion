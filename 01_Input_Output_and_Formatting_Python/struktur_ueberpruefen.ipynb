{
 "cells": [
  {
   "cell_type": "markdown",
   "metadata": {},
   "source": [
    "## Libraries and settings"
   ]
  },
  {
   "cell_type": "code",
   "execution_count": 31,
   "metadata": {},
   "outputs": [
    {
     "name": "stdout",
     "output_type": "stream",
     "text": [
      "/workspaces/data_ingestion/01_Input_Output_and_Formatting_Python\n"
     ]
    }
   ],
   "source": [
    "# Libraries\n",
    "import os\n",
    "import re\n",
    "import pytz\n",
    "import json\n",
    "import folium\n",
    "import sqlite3\n",
    "import pandas as pd\n",
    "import matplotlib.pyplot as plt\n",
    "\n",
    "from datetime import date\n",
    "from datetime import time\n",
    "\n",
    "from zipfile import ZipFile\n",
    "from bs4 import BeautifulSoup\n",
    "\n",
    "from PyPDF2 import PdfReader\n",
    "\n",
    "from reportlab.lib.units import inch\n",
    "from reportlab.lib.colors import blue\n",
    "from reportlab.lib.pagesizes import LETTER\n",
    "from reportlab.pdfgen.canvas import Canvas\n",
    "\n",
    "# Ignore warnings\n",
    "import warnings\n",
    "warnings.filterwarnings('ignore')\n",
    "\n",
    "# Show current working directory\n",
    "print(os.getcwd())"
   ]
  },
  {
   "cell_type": "markdown",
   "metadata": {},
   "source": [
    "### Datei Struktur eines db-Files überprüfen"
   ]
  },
  {
   "cell_type": "code",
   "execution_count": 32,
   "metadata": {},
   "outputs": [],
   "source": [
    "# Create e new db\n",
    "conn = sqlite3.connect('example_sqlite.db')\n",
    "\n",
    "# Close connection to db\n",
    "conn.close()"
   ]
  },
  {
   "cell_type": "code",
   "execution_count": 33,
   "metadata": {},
   "outputs": [
    {
     "name": "stdout",
     "output_type": "stream",
     "text": [
      "Tabellen in der Datenbank:\n",
      " - COMPANY\n",
      "\n",
      "Struktur der Tabelle 'COMPANY':\n",
      "Spalte: index, Typ: INTEGER\n",
      "Spalte: NAME, Typ: TEXT\n",
      "Spalte: AGE, Typ: INTEGER\n",
      "Spalte: CITY, Typ: TEXT\n",
      "Spalte: SALARY, Typ: INTEGER\n"
     ]
    }
   ],
   "source": [
    "import sqlite3\n",
    "\n",
    "# Verbindung zur SQLite-Datenbank herstellen\n",
    "conn = sqlite3.connect(\"example_sqlite.db\")\n",
    "\n",
    "# 1. Anzeigen aller Tabellen in der Datenbank\n",
    "cursor = conn.execute(\"SELECT name FROM sqlite_master WHERE type='table';\")\n",
    "tables = cursor.fetchall()\n",
    "print(\"Tabellen in der Datenbank:\")\n",
    "for table in tables:\n",
    "    print(\" -\", table[0])\n",
    "    \n",
    "# 2. Struktur jeder Tabelle anzeigen\n",
    "for table in tables:\n",
    "    print(f\"\\nStruktur der Tabelle '{table[0]}':\")\n",
    "    cursor = conn.execute(f\"PRAGMA table_info({table[0]})\")\n",
    "    columns = cursor.fetchall()\n",
    "    for column in columns:\n",
    "        print(f\"Spalte: {column[1]}, Typ: {column[2]}\")\n",
    "\n",
    "# Verbindung schließen\n",
    "conn.close()"
   ]
  },
  {
   "cell_type": "markdown",
   "metadata": {},
   "source": [
    "### CSV (comma separated value)\n",
    "\n",
    "- A comma-separated values (CSV) file is a delimited text file.\n",
    "- Each line of the file is a data record.\n",
    "- Each record consists of one or more fields, separated by a separator (default = comma).\n",
    "- The use of the comma as a field separator is the source of the name for this file format.\n",
    "- The seperator can also be user-defined, e.g. you can also use a semicolon instead of a comma.\n",
    "- A CSV file typically stores tabular data (numbers and text)."
   ]
  },
  {
   "cell_type": "code",
   "execution_count": 34,
   "metadata": {},
   "outputs": [
    {
     "name": "stdout",
     "output_type": "stream",
     "text": [
      "Index(['Unnamed: 0', 'chicken_id', 'weight', 'breed', 'eggs_per_year'], dtype='object')\n",
      "   Unnamed: 0  chicken_id       weight              breed  eggs_per_year\n",
      "0           0           1  2728.854920  New Hampshire Red            158\n",
      "1           1           2  2323.761365         Australorp            273\n",
      "2           2           3  2635.062034  New Hampshire Red            153\n",
      "3           3           4  2603.985152      Plymouth Rock            268\n",
      "4           4           5  3079.394487         Australorp            360\n"
     ]
    }
   ],
   "source": [
    "import pandas as pd\n",
    "\n",
    "# Nur die ersten Zeilen einlesen, um die Struktur anzusehen\n",
    "data = pd.read_csv(\"example_write.csv\", sep=\";\", nrows=5)\n",
    "print(data.columns)  # Spaltennamen anzeigen\n",
    "print(data.head())   # Erste Zeilen der Datei anzeigen\n"
   ]
  },
  {
   "cell_type": "code",
   "execution_count": 35,
   "metadata": {},
   "outputs": [
    {
     "name": "stdout",
     "output_type": "stream",
     "text": [
      "   chicken_id       weight              breed  eggs_per_year\n",
      "0           1  2728.854920  New Hampshire Red            158\n",
      "1           2  2323.761365         Australorp            273\n",
      "2           3  2635.062034  New Hampshire Red            153\n",
      "3           4  2603.985152      Plymouth Rock            268\n",
      "4           5  3079.394487         Australorp            360\n"
     ]
    }
   ],
   "source": [
    "# Read data from .csv-file using pandas\n",
    "data = pd.read_csv(\"example.csv\", sep=\";\")\n",
    "\n",
    "# Print the header info of data (first five rows)\n",
    "print(data.head(5))\n",
    "\n",
    "# Write data to csv\n",
    "data.to_csv(\"example_write.csv\", sep=\";\")"
   ]
  },
  {
   "cell_type": "markdown",
   "metadata": {},
   "source": [
    "### TXT (plain text)\n",
    "\n",
    "- In Plain Text file format, everything is written in plain text\n",
    "- Usually, this text is in unstructured form and there is no meta-data associated with it\n",
    "- The TXT file format can easily be read by any program"
   ]
  },
  {
   "cell_type": "code",
   "execution_count": 36,
   "metadata": {},
   "outputs": [
    {
     "name": "stdout",
     "output_type": "stream",
     "text": [
      "Dorothy lived in the midst of the great Kansas prairies, with Uncle Henry, who was a farmer, and Aunt Em, who was the farmer’s wife. Their house was small, for the lumber to build it had to be carried by wagon many miles. There were four walls, a floor and a roof, which made one room; and this room contained a rusty looking cookstove, a cupboard for the dishes, a table, three or four chairs, and the beds. Uncle Henry and Aunt Em had a big bed in one corner, and Dorothy a little bed in another corner. There was no garret at all, and no cellar—except a small hole dug in the ground, called a cyclone cellar, where the family could go in case one of those great whirlwinds arose, mighty enough to crush any building in its path. It was reached by a trap door in the middle of the floor, from which a ladder led down into the small, dark hole.\n",
      "\n",
      "\n",
      "\n",
      "\n",
      "\n",
      "\n",
      "\n",
      "\n",
      "\n"
     ]
    }
   ],
   "source": [
    "# Ersten 10 Zeilen einer Textdatei anzeigen\n",
    "with open(\"example.txt\", \"r\", encoding=\"utf-8\") as file:\n",
    "    for i in range(10):\n",
    "        print(file.readline())\n"
   ]
  },
  {
   "cell_type": "code",
   "execution_count": 37,
   "metadata": {},
   "outputs": [
    {
     "name": "stdout",
     "output_type": "stream",
     "text": [
      "Erste Zeile: Dorothy lived in the midst of the great Kansas prairies, with Uncle Henry, who was a farmer, and Aunt Em, who was the farmer’s wife. Their house was small, for the lumber to build it had to be carried by wagon many miles. There were four walls, a floor and a roof, which made one room; and this room contained a rusty looking cookstove, a cupboard for the dishes, a table, three or four chairs, and the beds. Uncle Henry and Aunt Em had a big bed in one corner, and Dorothy a little bed in another corner. There was no garret at all, and no cellar—except a small hole dug in the ground, called a cyclone cellar, where the family could go in case one of those great whirlwinds arose, mighty enough to crush any building in its path. It was reached by a trap door in the middle of the floor, from which a ladder led down into the small, dark hole.\n",
      "Trennzeichen: Komma\n"
     ]
    }
   ],
   "source": [
    "# Erste Zeile einlesen und Trennzeichen prüfen\n",
    "with open(\"example.txt\", \"r\", encoding=\"utf-8\") as file:\n",
    "    first_line = file.readline()\n",
    "    print(\"Erste Zeile:\", first_line)\n",
    "\n",
    "    # Überprüfen auf gängige Trennzeichen\n",
    "    if \",\" in first_line:\n",
    "        print(\"Trennzeichen: Komma\")\n",
    "    elif \"\\t\" in first_line:\n",
    "        print(\"Trennzeichen: Tab\")\n",
    "    elif \";\" in first_line:\n",
    "        print(\"Trennzeichen: Semikolon\")\n",
    "    else:\n",
    "        print(\"Keine gängigen Trennzeichen gefunden\")\n"
   ]
  },
  {
   "cell_type": "code",
   "execution_count": 38,
   "metadata": {},
   "outputs": [
    {
     "name": "stdout",
     "output_type": "stream",
     "text": [
      "<class 'str'>\n",
      "Dorothy lived in the midst of the great Kansas prairies, with Uncle Henry, who was a farmer, and Aunt Em, who was the farmer’s wife. Their house was small, for the lumber to build it had to be carried by wagon many miles. There were four walls, a floor and a roof, which made one room; and this room contained a rusty looking cookstove, a cupboard for the dishes, a table, three or four chairs, and the beds. Uncle Henry and Aunt Em had a big bed in one corner, and Dorothy a little bed in another corner. There was no garret at all, and no cellar—except a small hole dug in the ground, called a cyclone cellar, where the family could go in case one of those great whirlwinds arose, mighty enough to crush any building in its path. It was reached by a trap door in the middle of the floor, from which a ladder led down into the small, dark hole.\n"
     ]
    }
   ],
   "source": [
    "# Open a connection to the text-file (r = read)\n",
    "text_file = open(\"example.txt\", \n",
    "                 \"r\", \n",
    "                 encoding='utf-8')\n",
    "\n",
    "# Read data from .txt file\n",
    "lines = text_file.read()\n",
    "\n",
    "# Show type\n",
    "print(type(lines))\n",
    "\n",
    "# Print the data\n",
    "print(lines)"
   ]
  },
  {
   "cell_type": "code",
   "execution_count": 39,
   "metadata": {},
   "outputs": [
    {
     "name": "stdout",
     "output_type": "stream",
     "text": [
      "['example_write.txt']\n"
     ]
    }
   ],
   "source": [
    "# Write data to .txt\n",
    "lines = ['Dorothy lived in the midst of the great Kansas prairies', \n",
    "         'with Uncle Henry, who was a farmer ...']\n",
    "\n",
    "with open('example_write.txt', 'w') as f:\n",
    "    f.writelines(lines)\n",
    "    \n",
    "# Check whether file exists\n",
    "files = [f for f in os.listdir('.') if re.match('example_write.txt', f)]\n",
    "print(files)"
   ]
  },
  {
   "cell_type": "markdown",
   "metadata": {},
   "source": [
    "### JSON (JavaScript Object Notation)\n",
    "\n",
    "- JSON is a syntax for storing and exchanging data\n",
    "- JSON is text, written with JavaScript object notation"
   ]
  },
  {
   "cell_type": "code",
   "execution_count": 40,
   "metadata": {},
   "outputs": [
    {
     "name": "stdout",
     "output_type": "stream",
     "text": [
      "dict_keys(['firstName', 'lastName', 'age', 'address'])\n"
     ]
    }
   ],
   "source": [
    "import json\n",
    "\n",
    "# Ersten Teil der JSON-Datei einlesen, um die Struktur zu sehen\n",
    "with open(\"example.json\", \"r\") as f:\n",
    "    data = json.load(f)\n",
    "    print(data.keys()) if isinstance(data, dict) else print(data[0].keys())\n"
   ]
  },
  {
   "cell_type": "code",
   "execution_count": 41,
   "metadata": {},
   "outputs": [
    {
     "name": "stdout",
     "output_type": "stream",
     "text": [
      "{'firstName': 'John', 'lastName': 'Smith', 'age': 27, 'address': {'streetAddress': '21 2nd Street', 'city': 'New York', 'state': 'NY', 'postalCode': '10021-3100'}}\n",
      "              firstName lastName  age        address\n",
      "streetAddress      John    Smith   27  21 2nd Street\n",
      "city               John    Smith   27       New York\n",
      "state              John    Smith   27             NY\n",
      "postalCode         John    Smith   27     10021-3100\n"
     ]
    }
   ],
   "source": [
    "# Read data\n",
    "with open('example.json', 'r') as f:\n",
    "    data = json.load(f)\n",
    "print(data)\n",
    "\n",
    "# Read data to a data frame using the pandas library\n",
    "data = pd.read_json(\"example.json\")\n",
    "\n",
    "# Print the data\n",
    "print(data)"
   ]
  },
  {
   "cell_type": "code",
   "execution_count": 42,
   "metadata": {},
   "outputs": [
    {
     "name": "stdout",
     "output_type": "stream",
     "text": [
      "['example_write.json']\n"
     ]
    }
   ],
   "source": [
    "# Write data to .json \n",
    "data.to_json('example_write.json')\n",
    "\n",
    "# Check whether the file exists\n",
    "files = [f for f in os.listdir('.') if re.match('example_write.json', f)]\n",
    "print(files)"
   ]
  },
  {
   "cell_type": "markdown",
   "metadata": {},
   "source": [
    "### XML (extensible markup language)\n",
    "\n",
    "- XML stands for extensible Markup Language\n",
    "- XML is a markup language much like HTML\n",
    "- XML was designed to store and transport data\n",
    "- XML was designed to be self-descriptive\n",
    "- XML is a W3C Recommendation"
   ]
  },
  {
   "cell_type": "code",
   "execution_count": 43,
   "metadata": {},
   "outputs": [
    {
     "name": "stdout",
     "output_type": "stream",
     "text": [
      "<?xml version=\"1.0\" encoding=\"utf-8\"?>\n",
      "<breakfast_menu>\n",
      " <food>\n",
      "  <name>\n",
      "   Belgian Waffles\n",
      "  </name>\n",
      "  <price>\n",
      "   $5.95\n",
      "  </price>\n",
      "  <description>\n",
      "   Two of our famous Belgian Waffles with plenty of real maple syrup\n",
      "  </description>\n",
      "  <calories>\n",
      "   650\n",
      "  </calories>\n",
      " </food>\n",
      "</breakfast_menu>\n",
      "\n"
     ]
    }
   ],
   "source": [
    "from bs4 import BeautifulSoup\n",
    "\n",
    "# Struktur der XML-Datei ohne komplettes Parsen prüfen\n",
    "with open(\"example.xml\", \"r\") as file:\n",
    "    soup = BeautifulSoup(file, \"xml\")\n",
    "    print(soup.prettify()[:500])  # Ersten Teil anzeigen\n"
   ]
  },
  {
   "cell_type": "code",
   "execution_count": 44,
   "metadata": {},
   "outputs": [
    {
     "name": "stdout",
     "output_type": "stream",
     "text": [
      "<?xml version=\"1.0\" encoding=\"UTF-8\"?>\n",
      "<breakfast_menu>\n",
      " <food>\n",
      "  <name>\n",
      "   Belgian Waffles\n",
      "  </name>\n",
      "  <price>\n",
      "   $5.95\n",
      "  </price>\n",
      "  <description>\n",
      "   Two of our famous Belgian Waffles with plenty of real maple syrup\n",
      "  </description>\n",
      "  <calories>\n",
      "   650\n",
      "  </calories>\n",
      " </food>\n",
      "</breakfast_menu>\n",
      "\n",
      "------------------------\n",
      "              name  price\n",
      "0  Belgian Waffles  $5.95\n"
     ]
    }
   ],
   "source": [
    "# First option: reading the xml file with BeautifulSoup\n",
    "bs = BeautifulSoup(open('example.xml'), 'html.parser')\n",
    "print(bs.prettify())\n",
    "\n",
    "# Second option: using pandas and convert thr xml file to a data frame\n",
    "data = pd.read_xml(\"example.xml\")\n",
    "print(\"------------------------\")\n",
    "print(data[[\"name\",\"price\"]])"
   ]
  },
  {
   "cell_type": "code",
   "execution_count": 45,
   "metadata": {},
   "outputs": [
    {
     "name": "stdout",
     "output_type": "stream",
     "text": [
      "              name  price                                        description  \\\n",
      "0  Belgian Waffles  $5.95  \\n   Two of our famous Belgian Waffles with pl...   \n",
      "\n",
      "   calories  \n",
      "0       650  \n",
      "['example_write.xml']\n"
     ]
    }
   ],
   "source": [
    "# Second option: reading xml using .read_xml() from pandas\n",
    "data = pd.read_xml(\"example.xml\")\n",
    "print(data)\n",
    "\n",
    "# Write data to .xml\n",
    "data.to_xml('example_write.xml')\n",
    "\n",
    "# Check whether file exists\n",
    "files = [f for f in os.listdir('.') if re.match('example_write.xml', f)]\n",
    "print(files)"
   ]
  },
  {
   "cell_type": "markdown",
   "metadata": {},
   "source": [
    "### HTML (hyper text markup language)\n",
    "\n",
    "- HTML stands for Hyper Text Markup Language\n",
    "- HTML is the standard markup language for creating Web pages\n",
    "- HTML describes the structure of a Web page\n",
    "- HTML consists of a series of elements\n",
    "- HTML elements tell the browser how to display the content\n",
    "- HTML elements label pieces of content such as \"this is a heading\", \"this is a paragraph\", \"this is a link\", etc."
   ]
  },
  {
   "cell_type": "code",
   "execution_count": 46,
   "metadata": {},
   "outputs": [
    {
     "name": "stdout",
     "output_type": "stream",
     "text": [
      "<!DOCTYPE html>\n",
      "<html>\n",
      "<head>\n",
      "<title>Page Title</title>\n",
      "</head>\n",
      "<body><h1>My First Heading</h1>\n",
      "<p>My first paragraph.</p></body>\n",
      "</html>\n"
     ]
    }
   ],
   "source": [
    "# Read data from .html\n",
    "filename = 'example.html'\n",
    "html = open(filename, \"r\").read()\n",
    "print(html)"
   ]
  },
  {
   "cell_type": "code",
   "execution_count": 47,
   "metadata": {},
   "outputs": [
    {
     "name": "stdout",
     "output_type": "stream",
     "text": [
      "['example_write.html']\n"
     ]
    }
   ],
   "source": [
    "# Write data to .html (taking the html-file from above)\n",
    "with open('example_write.html', 'w') as f:\n",
    "    f.writelines(html)\n",
    "    \n",
    "# Check whether file exists\n",
    "files = [f for f in os.listdir('.') if re.match('example_write.html', f)]\n",
    "print(files)"
   ]
  },
  {
   "cell_type": "markdown",
   "metadata": {},
   "source": [
    "### ZIP (archive file format)\n",
    "\n",
    "- ZIP is an archive file format that supports lossless data compression\n",
    "- A ZIP file may contain one or more files or directories that may have been compressed\n",
    "- The ZIP file format permits a number of compression algorithms, though DEFLATE is the most common\n",
    "- The name \"zip\" (meaning \"move at high speed\") was suggested by R. Mahoney\n",
    "- They wanted to imply that their product would be faster than ARC and other compression formats of the time"
   ]
  },
  {
   "cell_type": "code",
   "execution_count": 48,
   "metadata": {},
   "outputs": [
    {
     "name": "stdout",
     "output_type": "stream",
     "text": [
      "Dateiname: example.csv, Größe: 837 bytes\n",
      "Dateiname: example.html, Größe: 137 bytes\n",
      "Dateiname: example.json, Größe: 193 bytes\n"
     ]
    }
   ],
   "source": [
    "from zipfile import ZipFile\n",
    "\n",
    "# ZIP-Datei öffnen und Struktur anzeigen\n",
    "with ZipFile(\"example_write.zip\", \"r\") as zip_obj:\n",
    "    # Liste der Dateien im ZIP-Archiv\n",
    "    zip_info = zip_obj.infolist()\n",
    "    for file_info in zip_info:\n",
    "        print(f\"Dateiname: {file_info.filename}, Größe: {file_info.file_size} bytes\")\n"
   ]
  },
  {
   "cell_type": "code",
   "execution_count": 49,
   "metadata": {},
   "outputs": [
    {
     "data": {
      "text/html": [
       "<div>\n",
       "<style scoped>\n",
       "    .dataframe tbody tr th:only-of-type {\n",
       "        vertical-align: middle;\n",
       "    }\n",
       "\n",
       "    .dataframe tbody tr th {\n",
       "        vertical-align: top;\n",
       "    }\n",
       "\n",
       "    .dataframe thead th {\n",
       "        text-align: right;\n",
       "    }\n",
       "</style>\n",
       "<table border=\"1\" class=\"dataframe\">\n",
       "  <thead>\n",
       "    <tr style=\"text-align: right;\">\n",
       "      <th></th>\n",
       "      <th>chicken_id</th>\n",
       "      <th>weight</th>\n",
       "      <th>breed</th>\n",
       "      <th>eggs_per_year</th>\n",
       "    </tr>\n",
       "  </thead>\n",
       "  <tbody>\n",
       "    <tr>\n",
       "      <th>0</th>\n",
       "      <td>1</td>\n",
       "      <td>2728.854920</td>\n",
       "      <td>New Hampshire Red</td>\n",
       "      <td>158</td>\n",
       "    </tr>\n",
       "    <tr>\n",
       "      <th>1</th>\n",
       "      <td>2</td>\n",
       "      <td>2323.761365</td>\n",
       "      <td>Australorp</td>\n",
       "      <td>273</td>\n",
       "    </tr>\n",
       "    <tr>\n",
       "      <th>2</th>\n",
       "      <td>3</td>\n",
       "      <td>2635.062034</td>\n",
       "      <td>New Hampshire Red</td>\n",
       "      <td>153</td>\n",
       "    </tr>\n",
       "    <tr>\n",
       "      <th>3</th>\n",
       "      <td>4</td>\n",
       "      <td>2603.985152</td>\n",
       "      <td>Plymouth Rock</td>\n",
       "      <td>268</td>\n",
       "    </tr>\n",
       "    <tr>\n",
       "      <th>4</th>\n",
       "      <td>5</td>\n",
       "      <td>3079.394487</td>\n",
       "      <td>Australorp</td>\n",
       "      <td>360</td>\n",
       "    </tr>\n",
       "  </tbody>\n",
       "</table>\n",
       "</div>"
      ],
      "text/plain": [
       "   chicken_id       weight              breed  eggs_per_year\n",
       "0           1  2728.854920  New Hampshire Red            158\n",
       "1           2  2323.761365         Australorp            273\n",
       "2           3  2635.062034  New Hampshire Red            153\n",
       "3           4  2603.985152      Plymouth Rock            268\n",
       "4           5  3079.394487         Australorp            360"
      ]
     },
     "execution_count": 49,
     "metadata": {},
     "output_type": "execute_result"
    }
   ],
   "source": [
    "# Pandas supports zip file reads\n",
    "data = pd.read_csv(\"archive.zip\", sep=\";\")\n",
    "data.head(5)"
   ]
  },
  {
   "cell_type": "code",
   "execution_count": 50,
   "metadata": {},
   "outputs": [
    {
     "name": "stdout",
     "output_type": "stream",
     "text": [
      "['example_write.zip']\n"
     ]
    }
   ],
   "source": [
    "# Create an empty Zip-archive\n",
    "zipObj = ZipFile('example_write.zip', 'w')\n",
    "\n",
    "# Add selected files to the zip archive\n",
    "zipObj.write('example.csv')\n",
    "zipObj.write('example.html')\n",
    "zipObj.write('example.json')\n",
    "\n",
    "# Close the Zip-archive\n",
    "zipObj.close()\n",
    "\n",
    "# Check whether zip-file exists\n",
    "files = [f for f in os.listdir('.') if re.match('example_write.zip', f)]\n",
    "print(files)"
   ]
  },
  {
   "cell_type": "markdown",
   "metadata": {},
   "source": [
    "### XLSX (Microsoft Excel Open XML file format)\n",
    "\n",
    "- It is an XML-based file format created by Microsoft Excel \n",
    "- The XLSX format was introduced with Microsoft Office 2007\n",
    "- In XLSX data is organized under the cells and columns in a sheet\n",
    "- Each XLSX file may contain one or more sheets\n",
    "- A single workbook can contain multiple sheets"
   ]
  },
  {
   "cell_type": "code",
   "execution_count": 51,
   "metadata": {},
   "outputs": [
    {
     "data": {
      "text/html": [
       "<div>\n",
       "<style scoped>\n",
       "    .dataframe tbody tr th:only-of-type {\n",
       "        vertical-align: middle;\n",
       "    }\n",
       "\n",
       "    .dataframe tbody tr th {\n",
       "        vertical-align: top;\n",
       "    }\n",
       "\n",
       "    .dataframe thead th {\n",
       "        text-align: right;\n",
       "    }\n",
       "</style>\n",
       "<table border=\"1\" class=\"dataframe\">\n",
       "  <thead>\n",
       "    <tr style=\"text-align: right;\">\n",
       "      <th></th>\n",
       "      <th>chicken_id</th>\n",
       "      <th>weight</th>\n",
       "      <th>breed</th>\n",
       "      <th>eggs_per_year</th>\n",
       "    </tr>\n",
       "  </thead>\n",
       "  <tbody>\n",
       "    <tr>\n",
       "      <th>0</th>\n",
       "      <td>1</td>\n",
       "      <td>2728.854920</td>\n",
       "      <td>New Hampshire Red</td>\n",
       "      <td>158</td>\n",
       "    </tr>\n",
       "    <tr>\n",
       "      <th>1</th>\n",
       "      <td>2</td>\n",
       "      <td>2323.761365</td>\n",
       "      <td>Australorp</td>\n",
       "      <td>273</td>\n",
       "    </tr>\n",
       "    <tr>\n",
       "      <th>2</th>\n",
       "      <td>3</td>\n",
       "      <td>2635.062034</td>\n",
       "      <td>New Hampshire Red</td>\n",
       "      <td>153</td>\n",
       "    </tr>\n",
       "    <tr>\n",
       "      <th>3</th>\n",
       "      <td>4</td>\n",
       "      <td>2603.985152</td>\n",
       "      <td>Plymouth Rock</td>\n",
       "      <td>268</td>\n",
       "    </tr>\n",
       "    <tr>\n",
       "      <th>4</th>\n",
       "      <td>5</td>\n",
       "      <td>3079.394487</td>\n",
       "      <td>Australorp</td>\n",
       "      <td>360</td>\n",
       "    </tr>\n",
       "  </tbody>\n",
       "</table>\n",
       "</div>"
      ],
      "text/plain": [
       "   chicken_id       weight              breed  eggs_per_year\n",
       "0           1  2728.854920  New Hampshire Red            158\n",
       "1           2  2323.761365         Australorp            273\n",
       "2           3  2635.062034  New Hampshire Red            153\n",
       "3           4  2603.985152      Plymouth Rock            268\n",
       "4           5  3079.394487         Australorp            360"
      ]
     },
     "execution_count": 51,
     "metadata": {},
     "output_type": "execute_result"
    }
   ],
   "source": [
    "# Read data from an example .xlsx-file\n",
    "data = pd.read_excel(\"example.xlsx\", sheet_name = \"sheet1\")\n",
    "\n",
    "# Print the data \n",
    "data.head(5)"
   ]
  },
  {
   "cell_type": "code",
   "execution_count": 52,
   "metadata": {},
   "outputs": [
    {
     "name": "stdout",
     "output_type": "stream",
     "text": [
      "Sheets: ['sheet1']\n",
      "Index(['chicken_id', 'weight', 'breed', 'eggs_per_year'], dtype='object')\n",
      "   chicken_id       weight              breed  eggs_per_year\n",
      "0           1  2728.854920  New Hampshire Red            158\n",
      "1           2  2323.761365         Australorp            273\n",
      "2           3  2635.062034  New Hampshire Red            153\n",
      "3           4  2603.985152      Plymouth Rock            268\n",
      "4           5  3079.394487         Australorp            360\n"
     ]
    }
   ],
   "source": [
    "import pandas as pd\n",
    "\n",
    "# Excel-Datei laden, aber nur die Struktur prüfen\n",
    "excel_file = pd.ExcelFile(\"example.xlsx\")\n",
    "print(\"Sheets:\", excel_file.sheet_names)  # Namen der Blätter anzeigen\n",
    "\n",
    "# Erste Zeilen eines Blatts anzeigen, z. B. 'Sheet1'\n",
    "sheet_data = pd.read_excel(\"example.xlsx\",  nrows=5)\n",
    "print(sheet_data.columns)  # Spaltennamen anzeigen\n",
    "print(sheet_data.head())   # Erste Zeilen anzeigen\n"
   ]
  },
  {
   "cell_type": "code",
   "execution_count": 53,
   "metadata": {},
   "outputs": [
    {
     "name": "stdout",
     "output_type": "stream",
     "text": [
      "['example_write.xlsx']\n"
     ]
    }
   ],
   "source": [
    "# Write data to xlsx\n",
    "data.to_excel('example_write.xlsx', sheet_name = \"sheet1\")\n",
    "\n",
    "# Check whether file exists\n",
    "files = [f for f in os.listdir('.') if re.match('example_write.xlsx', f)]\n",
    "print(files)"
   ]
  },
  {
   "cell_type": "markdown",
   "metadata": {},
   "source": [
    "### PDF (portable document format)\n",
    "\n",
    "- PDF is a file format developed by Adobe in the 1990s to present documents, including text formatting and images, in a manner independent of application software, hardware, and operating systems\n",
    "- Based on the PostScript language, each PDF file encapsulates a complete description of a fixed-layout flat document, including the text, fonts, vector graphics, raster images and other information needed to display it"
   ]
  },
  {
   "cell_type": "code",
   "execution_count": 54,
   "metadata": {},
   "outputs": [
    {
     "name": "stdout",
     "output_type": "stream",
     "text": [
      "Anzahl Seiten: 1\n",
      "Metadaten: {'/Author': 'Gellrich Mario (gell)', '/Company': '', '/CreationDate': \"D:20220306135939+01'00'\", '/Creator': 'Acrobat PDFMaker 21 für Excel', '/MSIP_Label_10d9bad3-6dac-4e9a-89a3-89f3b8d247b2_ActionId': '6c412dd4-ac43-489a-8e51-585029c84fdd', '/MSIP_Label_10d9bad3-6dac-4e9a-89a3-89f3b8d247b2_ContentBits': '0', '/MSIP_Label_10d9bad3-6dac-4e9a-89a3-89f3b8d247b2_Enabled': 'true', '/MSIP_Label_10d9bad3-6dac-4e9a-89a3-89f3b8d247b2_Method': 'Standard', '/MSIP_Label_10d9bad3-6dac-4e9a-89a3-89f3b8d247b2_Name': '10d9bad3-6dac-4e9a-89a3-89f3b8d247b2', '/MSIP_Label_10d9bad3-6dac-4e9a-89a3-89f3b8d247b2_SetDate': '2022-03-06T12:52:42Z', '/MSIP_Label_10d9bad3-6dac-4e9a-89a3-89f3b8d247b2_SiteId': '5d1a9f9d-201f-4a10-b983-451cf65cbc1e', '/ModDate': \"D:20220306135940+01'00'\", '/Producer': 'Adobe PDF Library 21.11.71'}\n"
     ]
    }
   ],
   "source": [
    "from PyPDF2 import PdfReader\n",
    "\n",
    "# PDF-Datei laden und Metadaten überprüfen\n",
    "reader = PdfReader(\"example.pdf\")\n",
    "print(\"Anzahl Seiten:\", len(reader.pages))\n",
    "print(\"Metadaten:\", reader.metadata)\n"
   ]
  },
  {
   "cell_type": "code",
   "execution_count": 55,
   "metadata": {},
   "outputs": [
    {
     "name": "stdout",
     "output_type": "stream",
     "text": [
      "1\n",
      "Gellrich Mario (gell)\n",
      "Acrobat PDFMaker 21 für Excel\n",
      "Adobe PDF Library 21.11.71\n",
      "None\n",
      "\n",
      "\n",
      "This is a PDF-File\n",
      "Table 1:\n",
      "Pet Color\n",
      "Dog brown\n",
      "Cat yellow\n",
      "Bird green\n",
      "Dog black\n",
      "Cat gray\n",
      "Bird green\n",
      "Dog red\n",
      "Cat blue\n",
      "\n",
      "\n",
      "Number of pages in PDF: 1\n"
     ]
    }
   ],
   "source": [
    "# Reading metadata\n",
    "reader = PdfReader(\"example.pdf\")\n",
    "meta = reader.metadata\n",
    "print(len(reader.pages))\n",
    "\n",
    "# All of the following could be None!\n",
    "print(meta.author)\n",
    "print(meta.creator)\n",
    "print(meta.producer)\n",
    "print(meta.subject)\n",
    "\n",
    "# Extract text\n",
    "page = reader.pages[0]\n",
    "print('\\n')\n",
    "print(page.extract_text())\n",
    "\n",
    "# Number of pages\n",
    "print('\\n')\n",
    "print(f'Number of pages in PDF: {len(reader.pages)}')\n"
   ]
  },
  {
   "cell_type": "code",
   "execution_count": 56,
   "metadata": {},
   "outputs": [
    {
     "name": "stdout",
     "output_type": "stream",
     "text": [
      "['example_write.pdf']\n"
     ]
    }
   ],
   "source": [
    "# Create a canvas\n",
    "canvas = Canvas(\"example_write.pdf\", pagesize = LETTER)\n",
    "\n",
    "# Set font to Times New Roman with 36-point size\n",
    "canvas.setFont(\"Times-Roman\", 36)\n",
    "\n",
    "# Draw blue text one inch from the left and ten inches from the bottom\n",
    "canvas.setFillColor(blue)\n",
    "canvas.drawString(1 * inch, 10 * inch, \"This is a PDF file ...\")\n",
    "\n",
    "# Save the PDF file\n",
    "canvas.save()\n",
    "\n",
    "# Check whether file exists\n",
    "files = [f for f in os.listdir('.') if re.match('example_write.pdf', f)]\n",
    "print(files)"
   ]
  },
  {
   "cell_type": "markdown",
   "metadata": {},
   "source": [
    "### Jupyter notebook --footer info-- (please always provide this at the end of each notebook)"
   ]
  },
  {
   "cell_type": "code",
   "execution_count": 57,
   "metadata": {},
   "outputs": [
    {
     "name": "stdout",
     "output_type": "stream",
     "text": [
      "-----------------------------------\n",
      "POSIX\n",
      "Linux | 6.5.0-1025-azure\n",
      "Datetime: 2024-11-09 20:21:12\n",
      "Python Version: 3.11.10\n",
      "-----------------------------------\n"
     ]
    }
   ],
   "source": [
    "import os\n",
    "import platform\n",
    "import socket\n",
    "from platform import python_version\n",
    "from datetime import datetime\n",
    "\n",
    "print('-----------------------------------')\n",
    "print(os.name.upper())\n",
    "print(platform.system(), '|', platform.release())\n",
    "print('Datetime:', datetime.now().strftime(\"%Y-%m-%d %H:%M:%S\"))\n",
    "print('Python Version:', python_version())\n",
    "print('-----------------------------------')"
   ]
  }
 ],
 "metadata": {
  "kernelspec": {
   "display_name": "Python 3",
   "language": "python",
   "name": "python3"
  },
  "language_info": {
   "codemirror_mode": {
    "name": "ipython",
    "version": 3
   },
   "file_extension": ".py",
   "mimetype": "text/x-python",
   "name": "python",
   "nbconvert_exporter": "python",
   "pygments_lexer": "ipython3",
   "version": "3.11.10"
  }
 },
 "nbformat": 4,
 "nbformat_minor": 2
}
