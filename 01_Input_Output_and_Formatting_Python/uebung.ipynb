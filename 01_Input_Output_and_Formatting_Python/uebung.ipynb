{
 "cells": [
  {
   "attachments": {
    "grafik.png": {
     "image/png": "[encoded data removed]"
    }
   },
   "cell_type": "markdown",
   "metadata": {},
   "source": [
    "# Beispielsaufgabe\n",
    "\n",
    "### CSV-Datei -Aufgabe\n",
    "\n",
    "Ein Unternehmen hat Ihnen eine CSV-Datei namens sales_data.csv zur Verfügung gestellt. Diese Datei enthält Verkaufsdaten aus verschiedenen Filialen, die aufbereitet werden müssen, bevor sie in einem DataFrame gespeichert und analysiert werden können.\n",
    "\n",
    "Die CSV-Datei hat das folgende Format:\n",
    "![grafik.png](attachment:grafik.png)"
   ]
  },
  {
   "cell_type": "markdown",
   "metadata": {},
   "source": [
    "### Aufgabenstellung:\n",
    "\n",
    "1. Lesen Sie die Datei sales_data.csv ein und konvertieren Sie die Daten in einen DataFrame.\n",
    "2. Konvertieren Sie das Datumsformat in der Spalte Date in das Format YYYY-MM-DD HH:MM (z. B. 2023-12-25 14:30).\n",
    "3. Entfernen Sie das Dollarzeichen aus der Spalte Sales_Amount und konvertieren Sie die Werte in numerische (float) Werte.\n",
    "4. Konvertieren Sie die Spalte Quantity von einer Textdarstellung in numerische (int) Werte.\n",
    "5. Geben Sie das bereinigte DataFrame aus und überprüfen Sie, ob die Konvertierungen erfolgreich waren, indem Sie den Datentyp jeder Spalte anzeigen."
   ]
  },
  {
   "cell_type": "code",
   "execution_count": 8,
   "metadata": {},
   "outputs": [
    {
     "name": "stdout",
     "output_type": "stream",
     "text": [
      "Spaltennamen: Index(['Transaction_ID', 'Date', 'Sales_Amount', 'Quantity', 'Branch'], dtype='object')\n",
      "Transaction_ID            object\n",
      "Date              datetime64[ns]\n",
      "Sales_Amount             float64\n",
      "Quantity                   int64\n",
      "Branch                    object\n",
      "dtype: object\n"
     ]
    }
   ],
   "source": [
    "import pandas as pd\n",
    "\n",
    "# Datei mit dem richtigen Trennzeichen einlesen und Spaltennamen anzeigen\n",
    "df = pd.read_csv(\"sales_data.csv\", sep=\";\")\n",
    "print(\"Spaltennamen:\", df.columns)\n",
    "\n",
    "# Prüfen, ob die Spalte 'Date' enthalten ist und keine Leerzeichen hat\n",
    "df.columns = df.columns.str.strip()  # Entfernt potenzielle Leerzeichen aus Spaltennamen\n",
    "\n",
    "# Datumsformat konvertieren\n",
    "df['Date'] = pd.to_datetime(df['Date'], format='%m/%d/%Y %H:%M', errors='coerce')  # 'errors=coerce' konvertiert unpassende Formate zu NaT\n",
    "\n",
    "# Dollarzeichen aus `Sales_Amount` entfernen und in Float konvertieren\n",
    "df['Sales_Amount'] = df['Sales_Amount'].replace('[\\$,]', '', regex=True).astype(float)\n",
    "\n",
    "# `Quantity` von Text zu Integer konvertieren\n",
    "df['Quantity'] = df['Quantity'].astype(int)\n",
    "\n",
    "# Bereinigtes DataFrame anzeigen\n",
    "print(df.dtypes)\n"
   ]
  },
  {
   "cell_type": "code",
   "execution_count": 10,
   "metadata": {},
   "outputs": [
    {
     "data": {
      "text/html": [
       "<div>\n",
       "<style scoped>\n",
       "    .dataframe tbody tr th:only-of-type {\n",
       "        vertical-align: middle;\n",
       "    }\n",
       "\n",
       "    .dataframe tbody tr th {\n",
       "        vertical-align: top;\n",
       "    }\n",
       "\n",
       "    .dataframe thead th {\n",
       "        text-align: right;\n",
       "    }\n",
       "</style>\n",
       "<table border=\"1\" class=\"dataframe\">\n",
       "  <thead>\n",
       "    <tr style=\"text-align: right;\">\n",
       "      <th></th>\n",
       "      <th>Transaction_ID</th>\n",
       "      <th>Date</th>\n",
       "      <th>Sales_Amount</th>\n",
       "      <th>Quantity</th>\n",
       "      <th>Branch</th>\n",
       "    </tr>\n",
       "  </thead>\n",
       "  <tbody>\n",
       "    <tr>\n",
       "      <th>0</th>\n",
       "      <td>T1001</td>\n",
       "      <td>2023-12-25 14:30:00</td>\n",
       "      <td>150.75</td>\n",
       "      <td>3</td>\n",
       "      <td>A</td>\n",
       "    </tr>\n",
       "    <tr>\n",
       "      <th>1</th>\n",
       "      <td>T1002</td>\n",
       "      <td>2024-01-02 09:15:00</td>\n",
       "      <td>200.50</td>\n",
       "      <td>5</td>\n",
       "      <td>B</td>\n",
       "    </tr>\n",
       "    <tr>\n",
       "      <th>2</th>\n",
       "      <td>T1003</td>\n",
       "      <td>2023-12-31 17:45:00</td>\n",
       "      <td>75.00</td>\n",
       "      <td>2</td>\n",
       "      <td>A</td>\n",
       "    </tr>\n",
       "    <tr>\n",
       "      <th>3</th>\n",
       "      <td>T1004</td>\n",
       "      <td>2024-01-01 10:00:00</td>\n",
       "      <td>125.25</td>\n",
       "      <td>1</td>\n",
       "      <td>C</td>\n",
       "    </tr>\n",
       "    <tr>\n",
       "      <th>4</th>\n",
       "      <td>T1005</td>\n",
       "      <td>2024-01-15 13:45:00</td>\n",
       "      <td>300.00</td>\n",
       "      <td>7</td>\n",
       "      <td>B</td>\n",
       "    </tr>\n",
       "  </tbody>\n",
       "</table>\n",
       "</div>"
      ],
      "text/plain": [
       "  Transaction_ID                Date  Sales_Amount  Quantity Branch\n",
       "0          T1001 2023-12-25 14:30:00        150.75         3      A\n",
       "1          T1002 2024-01-02 09:15:00        200.50         5      B\n",
       "2          T1003 2023-12-31 17:45:00         75.00         2      A\n",
       "3          T1004 2024-01-01 10:00:00        125.25         1      C\n",
       "4          T1005 2024-01-15 13:45:00        300.00         7      B"
      ]
     },
     "execution_count": 10,
     "metadata": {},
     "output_type": "execute_result"
    }
   ],
   "source": [
    "df.head(5)"
   ]
  },
  {
   "attachments": {
    "grafik.png": {
     "image/png": "[encoded data removed]"
    }
   },
   "cell_type": "markdown",
   "metadata": {},
   "source": [
    "### Beispielsaufgabe Excel\n",
    "\n",
    "Sie erhalten eine Excel-Datei namens sales_data.xlsx, die Verkaufsdaten aus verschiedenen Filialen enthält. Ihre Aufgabe besteht darin, die Daten aus dieser Datei zu bereinigen und vorzubereiten, bevor sie in einem DataFrame gespeichert und analysiert werden können.\n",
    "\n",
    "Die Excel-Datei hat folgende Struktur:\n",
    "![grafik.png](attachment:grafik.png)"
   ]
  },
  {
   "cell_type": "markdown",
   "metadata": {},
   "source": [
    "Aufgabenstellung:\n",
    "\n",
    "1. Lesen Sie die Datei sales_data.xlsx ein und konvertieren Sie die Daten in einen DataFrame.\n",
    "2. Konvertieren Sie das Datumsformat in der Spalte Date in das Format YYYY-MM-DD HH:MM (z. B. 2023-12-25 14:30).\n",
    "4. Entfernen Sie das Dollarzeichen aus der Spalte Sales_Amount und konvertieren Sie die Werte in numerische (float) Werte.\n",
    "5. Konvertieren Sie die Spalte Quantity von einer Textdarstellung in numerische (int) Werte.\n",
    "6. Geben Sie das bereinigte DataFrame aus und überprüfen Sie, ob die Konvertierungen erfolgreich waren, indem Sie den Datentyp jeder Spalte anzeigen."
   ]
  },
  {
   "cell_type": "code",
   "execution_count": 22,
   "metadata": {},
   "outputs": [
    {
     "name": "stdout",
     "output_type": "stream",
     "text": [
      "Gefundene Arbeitsblätter: ['Tabelle1']\n"
     ]
    }
   ],
   "source": [
    "import pandas as pd\n",
    "\n",
    "try:\n",
    "    excel_file = pd.ExcelFile(\"sales_data.xlsx\")\n",
    "    print(\"Gefundene Arbeitsblätter:\", excel_file.sheet_names)\n",
    "except Exception as e:\n",
    "    print(\"Fehler beim Laden der Excel-Datei:\", e)\n"
   ]
  },
  {
   "cell_type": "code",
   "execution_count": 23,
   "metadata": {},
   "outputs": [
    {
     "name": "stdout",
     "output_type": "stream",
     "text": [
      "Spaltennamen: Index(['Transaction_ID', 'Date', 'Sales_Amount', 'Quantity', 'Branch'], dtype='object')\n",
      "  Transaction_ID                    Date  Sales_Amount  Quantity Branch\n",
      "0          T1001 2023-12-25 14:30:00.000        150.75         3      A\n",
      "1          T1002 2024-02-01 09:15:00.000        200.50         5      B\n",
      "2          T1003 2023-12-31 17:45:00.000         75.00         2      A\n",
      "3          T1004 2024-01-01 10:00:00.000        125.25         1      C\n",
      "4          T1005 2024-01-02 09:59:59.995        125.26         1      A\n",
      "Transaction_ID            object\n",
      "Date              datetime64[ns]\n",
      "Sales_Amount             float64\n",
      "Quantity                   int64\n",
      "Branch                    object\n",
      "dtype: object\n"
     ]
    }
   ],
   "source": [
    "import pandas as pd\n",
    "\n",
    "# Datei einlesen\n",
    "df = pd.read_excel(\"sales_data.xlsx\")\n",
    "print(\"Spaltennamen:\", df.columns)\n",
    "\n",
    "# Spaltennamen von Leerzeichen bereinigen\n",
    "df.columns = df.columns.str.strip()\n",
    "\n",
    "# 2. Datumsformat konvertieren\n",
    "df['Date'] = pd.to_datetime(df['Date'], format='%m/%d/%Y %H:%M', errors='coerce')\n",
    "\n",
    "# 3. Dollarzeichen aus `Sales_Amount` entfernen und in Float konvertieren\n",
    "df['Sales_Amount'] = df['Sales_Amount'].replace('[\\$,]', '', regex=True).astype(float)\n",
    "\n",
    "# 4. Anführungszeichen aus `Quantity` entfernen und zu Integer konvertieren\n",
    "df['Quantity'] = df['Quantity'].replace('\"', '', regex=True).astype(int)\n",
    "\n",
    "# Bereinigtes DataFrame anzeigen\n",
    "print(df.head())\n",
    "\n",
    "# Überprüfen Sie die Datentypen der Spalten\n",
    "print(df.dtypes)\n"
   ]
  },
  {
   "cell_type": "markdown",
   "metadata": {},
   "source": [
    "# Prüfungsaufgabe: Data Ingestion und SQLite\n",
    "\n",
    "Hinweis: Diese Aufgabe überprüft Ihre Kenntnisse im Einlesen und Verarbeiten von Daten aus verschiedenen Dateiformaten sowie im Umgang mit einer SQLite-Datenbank.\n",
    "Aufgabe\n",
    "\n",
    "Sie haben verschiedene Datenquellen in den folgenden Formaten erhalten:\n",
    "\n",
    "- CSV (sales_data.csv)\n",
    "- JSON (customer_data.json)\n",
    "- Excel (inventory_data.xlsx)\n",
    "\n",
    "Außerdem soll eine SQLite-Datenbank verwendet werden, um die Daten zusammenzuführen und einfache Abfragen durchzuführen.\n",
    "\n",
    "### Datenbeschreibung:\n",
    "\n",
    "- sales_data.csv enthält Verkaufsdaten mit folgenden Spalten: Transaction_ID, Date, Sales_Amount, Quantity, Branch.\n",
    "- customer_data.json enthält Kundeninformationen mit folgenden Feldern: Customer_ID, Name, City, Phone.\n",
    "- inventory_data.xlsx enthält Lagerbestände mit folgenden Spalten: Product_ID, Product_Name, Stock_Quantity, Price.\n",
    "\n",
    "### Aufgabenstellung:\n",
    "\n",
    "1. Lesen Sie die Daten aus allen drei Dateien ein und bereinigen Sie die Daten:\n",
    "    - Konvertieren Sie das Datumsformat in sales_data.csv in das Format YYYY-MM-DD.\n",
    "    - Entfernen Sie das Dollarzeichen ($) aus Sales_Amount in sales_data.csv und konvertieren Sie die Werte in float.\n",
    "    - Stellen Sie sicher, dass alle Werte in Quantity und Stock_Quantity als Integer vorliegen.\n",
    "\n",
    "2. Speichern Sie die Daten in einer SQLite-Datenbank company_data.db mit folgenden Tabellen:\n",
    "    - Sales für Verkaufsdaten\n",
    "    - Customers für Kundendaten\n",
    "    - Inventory für Lagerbestände\n",
    "\n",
    "3. Erstellen Sie Abfragen in SQL, um Folgendes zu ermitteln:\n",
    "    - Die durchschnittliche Sales_Amount für jede Filiale (Branch) in der Tabelle Sales.\n",
    "    - Eine Liste aller Kunden (Name) aus der Tabelle Customers, die in der gleichen Stadt (City) leben wie die Filiale in der Tabelle Sales.\n",
    "    - Die Gesamtmenge (Stock_Quantity) aller Produkte in der Tabelle Inventory.\n",
    "\n",
    "4. Geben Sie die Ergebnisse der Abfragen in Pandas-DataFrames aus und zeigen Sie sie an."
   ]
  },
  {
   "cell_type": "code",
   "execution_count": null,
   "metadata": {},
   "outputs": [],
   "source": [
    "import pandas as pd\n",
    "import sqlite3\n",
    "import json\n",
    "\n",
    "# 1. Daten einlesen und bereinigen\n",
    "\n",
    "# Lesen der CSV-Datei\n",
    "sales_df = pd.read_csv(\"sales_data.csv\")\n",
    "sales_df['Date'] = pd.to_datetime(sales_df['Date'], format='%m/%d/%Y').dt.strftime('%Y-%m-%d')\n",
    "sales_df['Sales_Amount'] = sales_df['Sales_Amount'].replace('[\\$,]', '', regex=True).astype(float)\n",
    "sales_df['Quantity'] = sales_df['Quantity'].astype(int)\n",
    "\n",
    "# Lesen der JSON-Datei\n",
    "with open(\"customer_data.json\", \"r\") as f:\n",
    "    customer_data = json.load(f)\n",
    "customers_df = pd.json_normalize(customer_data)\n",
    "\n",
    "# Lesen der Excel-Datei\n",
    "inventory_df = pd.read_excel(\"inventory_data.xlsx\")\n",
    "inventory_df['Stock_Quantity'] = inventory_df['Stock_Quantity'].astype(int)\n",
    "\n",
    "# 2. Speichern in SQLite-Datenbank\n",
    "conn = sqlite3.connect(\"company_data.db\")\n",
    "\n",
    "# Tabellen erstellen und Daten einfügen\n",
    "sales_df.to_sql('Sales', conn, if_exists='replace', index=False)\n",
    "customers_df.to_sql('Customers', conn, if_exists='replace', index=False)\n",
    "inventory_df.to_sql('Inventory', conn, if_exists='replace', index=False)\n",
    "\n",
    "# 3. SQL-Abfragen ausführen\n",
    "\n",
    "# Durchschnittliche Verkaufsmenge pro Filiale\n",
    "avg_sales_query = \"SELECT Branch, AVG(Sales_Amount) AS Avg_Sales FROM Sales GROUP BY Branch\"\n",
    "avg_sales_df = pd.read_sql(avg_sales_query, conn)\n",
    "print(\"Durchschnittlicher Verkaufsbetrag pro Filiale:\")\n",
    "print(avg_sales_df)\n",
    "\n",
    "# Kundenliste aus der gleichen Stadt wie die Filiale\n",
    "customers_query = \"\"\"\n",
    "SELECT c.Name\n",
    "FROM Customers c\n",
    "JOIN Sales s ON c.City = s.Branch\n",
    "\"\"\"\n",
    "customers_city_df = pd.read_sql(customers_query, conn)\n",
    "print(\"Kunden aus der gleichen Stadt wie die Filiale:\")\n",
    "print(customers_city_df)\n",
    "\n",
    "# Gesamtmenge aller Produkte\n",
    "stock_query = \"SELECT SUM(Stock_Quantity) AS Total_Stock FROM Inventory\"\n",
    "total_stock_df = pd.read_sql(stock_query, conn)\n",
    "print(\"Gesamtmenge aller Produkte im Lager:\")\n",
    "print(total_stock_df)\n",
    "\n",
    "# Verbindung zur Datenbank schließen\n",
    "conn.close()"
   ]
  },
  {
   "cell_type": "markdown",
   "metadata": {},
   "source": [
    "## The END"
   ]
  }
 ],
 "metadata": {
  "kernelspec": {
   "display_name": "Python 3",
   "language": "python",
   "name": "python3"
  },
  "language_info": {
   "codemirror_mode": {
    "name": "ipython",
    "version": 3
   },
   "file_extension": ".py",
   "mimetype": "text/x-python",
   "name": "python",
   "nbconvert_exporter": "python",
   "pygments_lexer": "ipython3",
   "version": "3.11.10"
  }
 },
 "nbformat": 4,
 "nbformat_minor": 2
}
