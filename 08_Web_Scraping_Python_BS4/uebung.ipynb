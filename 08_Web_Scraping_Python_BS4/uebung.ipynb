{
 "cells": [
  {
   "cell_type": "markdown",
   "metadata": {},
   "source": [
    "### Übungsaufgabe: Extrahieren und Speichern von E-Mail-Adressen von einer Webseite\n",
    "\n",
    "- Ziel der Aufgabe: Diese Übung prüft Ihre Fähigkeit, E-Mail-Adressen aus einer Webseite zu extrahieren und in einer Excel-Datei zu speichern.\n",
    "Aufgabenstellung:\n",
    "\n",
    "1. Einrichten der Bibliotheken und Initialisierung:\n",
    "    - Richten Sie die erforderlichen Bibliotheken ein (requests, BeautifulSoup, xlwt) und stellen Sie sicher, dass Sie eine leere Excel-Datei zum Speichern der Daten erstellt haben.\n",
    "    - Frage: Welche Rolle spielt die xlwt-Bibliothek in diesem Code?\n",
    "\n",
    "2. Extrahieren der E-Mail-Adressen:\n",
    "    - Schreiben Sie eine Funktion email_extractor(url), die alle E-Mail-Adressen von einer gegebenen Webseite (url) extrahiert und diese Adressen in einer Liste speichert.\n",
    "    - Verwenden Sie die URL https://www.zh.ch/de/bildung/schulen.html, um die E-Mail-Adressen zu extrahieren.\n",
    "    - Frage: Wie identifiziert der Code, dass es sich bei einem Element um eine E-Mail-Adresse handelt?\n",
    "\n",
    "3. Speichern der E-Mail-Adressen in einer Excel-Datei:\n",
    "    - Speichern Sie die extrahierten E-Mail-Adressen in einer Excel-Datei emails.xls. Jede E-Mail-Adresse sollte in einer eigenen Zeile stehen.\n",
    "    - Frage: Warum ist es hilfreich, die Daten in einer Excel-Datei zu speichern?\n",
    "\n",
    "4. Zusätzliche Aufgaben für die Prüfung:\n",
    "    - Lesen Sie den Inhalt der Webseite und geben Sie die ersten 1000 Zeichen des HTML-Dokuments aus, um die Struktur zu überprüfen.\n",
    "    - Extrahieren Sie die ersten drei E-Mail-Adressen und geben Sie diese im Terminal aus."
   ]
  },
  {
   "cell_type": "code",
   "execution_count": 1,
   "metadata": {},
   "outputs": [
    {
     "name": "stdout",
     "output_type": "stream",
     "text": [
      "Extrahierte E-Mail-Adressen: ['schule@adliswil.ch', 'praesidiumaesch@nassenmatt.ch', 'schulverwaltung@bruelmatt.ch']\n",
      "Erste 1000 Zeichen des HTML-Inhalts: b'\\n\\n\\n\\n\\n\\n\\n\\n\\n\\n<!doctype html>\\n<html lang=\"de\">\\n<head>\\n    <meta charset=\"UTF-8\"/>\\n    <meta http-equiv=\"X-UA-Compatible\" content=\"IE=edge\"/>\\n    <title>Schulen | Kanton Z\\xc3\\xbcrich</title>\\n\\n    <meta content=\"Kanton Z\\xc3\\xbcrich\" property=\"og:site_name\"/>\\n    <meta content=\"Schulen\" property=\"og:title\"/>\\n    <meta content=\"Der Kanton Z\\xc3\\xbcrich hat eine starke \\xc3\\xb6ffentliche Volksschule, ausgezeichnete Mittel- und Berufsfachschulen sowie international anerkannte Hochschulen.\" property=\"og:description\"/>\\n    <meta content=\"website\" property=\"og:type\"/>\\n    <meta content=\"https://www.zh.ch/content/dam/zhweb/bilder-dokumente/footer/social-media-links/kantonzuerich.png.zhweb-transform/open-graph-teaser-image-large/kantonzuerich.1611224633548.png\" property=\"og:image\"/>\\n    <meta content=\"https://www.zh.ch/de/bildung/schulen.html\" property=\"og:url\"/>\\n\\n    <meta name=\"description\" content=\"Der Kanton Z\\xc3\\xbcrich hat eine starke \\xc3\\xb6ffentliche Volksschule, ausgezeichnete Mittel- und Berufsfachschulen sowie internatio'\n"
     ]
    }
   ],
   "source": [
    "# Libraries and settings\n",
    "import requests\n",
    "import xlwt\n",
    "from bs4 import BeautifulSoup\n",
    "\n",
    "# Create workbook and worksheet\n",
    "wb = xlwt.Workbook()\n",
    "ws = wb.add_sheet('Emails')\n",
    "ws.write(0, 0, 'Emails')\n",
    "\n",
    "# URL der Seite zum Scrapen\n",
    "urlString = 'https://www.zh.ch/de/bildung/schulen.html'\n",
    "\n",
    "# Funktion zum Extrahieren von E-Mail-Adressen\n",
    "def email_extractor(url):\n",
    "    email_list = []\n",
    "    response = requests.get(url)\n",
    "    soup = BeautifulSoup(response.content, 'html.parser')\n",
    "    mailtos = soup.select('a[href^=mailto]')\n",
    "    \n",
    "    for i in mailtos:\n",
    "        href = i['href']\n",
    "        try:\n",
    "            _, email = href.split(':')\n",
    "            email_list.append(email)\n",
    "        except ValueError:\n",
    "            continue  # Ignoriere fehlerhafte Mailto-Links\n",
    "            \n",
    "    return email_list\n",
    "\n",
    "# E-Mails extrahieren und speichern\n",
    "email_list = email_extractor(urlString)\n",
    "print(\"Extrahierte E-Mail-Adressen:\", email_list[:3])  # Zeigt die ersten 3 E-Mails an\n",
    "\n",
    "# E-Mails in Excel speichern\n",
    "for index, email in enumerate(email_list, start=1):\n",
    "    ws.write(index, 0, email)\n",
    "wb.save('emails.xls')\n",
    "\n",
    "# Zeigt die ersten 1000 Zeichen des HTML-Codes an\n",
    "response = requests.get(urlString)\n",
    "print(\"Erste 1000 Zeichen des HTML-Inhalts:\", response.content[:1000])\n"
   ]
  },
  {
   "cell_type": "code",
   "execution_count": 2,
   "metadata": {},
   "outputs": [
    {
     "name": "stdout",
     "output_type": "stream",
     "text": [
      "DataFrame mit E-Mail-Adressen:\n",
      "                              Email\n",
      "0                schule@adliswil.ch\n",
      "1     praesidiumaesch@nassenmatt.ch\n",
      "2      schulverwaltung@bruelmatt.ch\n",
      "3  schulverwaltung@schule-aeugst.ch\n",
      "4            schulverwaltung@osa.ch\n"
     ]
    }
   ],
   "source": [
    "import pandas as pd\n",
    "\n",
    "# Wandelt die Liste der E-Mails in ein DataFrame um\n",
    "df_emails = pd.DataFrame(email_list, columns=['Email'])\n",
    "\n",
    "# Zeigt die ersten Zeilen des DataFrames an\n",
    "print(\"DataFrame mit E-Mail-Adressen:\")\n",
    "print(df_emails.head())\n",
    "\n",
    "# Optional: Speichern des DataFrames als CSV-Datei\n",
    "df_emails.to_csv('emails.csv', index=False)"
   ]
  },
  {
   "cell_type": "markdown",
   "metadata": {},
   "source": [
    "THE END"
   ]
  }
 ],
 "metadata": {
  "kernelspec": {
   "display_name": "Python 3",
   "language": "python",
   "name": "python3"
  },
  "language_info": {
   "codemirror_mode": {
    "name": "ipython",
    "version": 3
   },
   "file_extension": ".py",
   "mimetype": "text/x-python",
   "name": "python",
   "nbconvert_exporter": "python",
   "pygments_lexer": "ipython3",
   "version": "3.11.10"
  }
 },
 "nbformat": 4,
 "nbformat_minor": 2
}
