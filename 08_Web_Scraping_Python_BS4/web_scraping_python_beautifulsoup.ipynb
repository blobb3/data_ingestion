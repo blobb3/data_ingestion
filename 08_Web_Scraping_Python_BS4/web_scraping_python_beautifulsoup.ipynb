{
 "cells": [
  {
   "cell_type": "markdown",
   "id": "frank-setup",
   "metadata": {},
   "source": [
    "# Web Scraping with Python and Beautifulsoup"
   ]
  },
  {
   "cell_type": "markdown",
   "id": "competitive-cameroon",
   "metadata": {},
   "source": [
    "## Libraries and settings"
   ]
  },
  {
   "cell_type": "code",
   "execution_count": 1,
   "id": "indoor-washer",
   "metadata": {},
   "outputs": [
    {
     "name": "stdout",
     "output_type": "stream",
     "text": [
      "/workspaces/data_ingestion/08_Web_Scraping_Python_BS4\n"
     ]
    }
   ],
   "source": [
    "import requests\n",
    "import xlwt\n",
    "from bs4 import BeautifulSoup\n",
    "import os\n",
    "\n",
    "# Get current working directory\n",
    "print(os.getcwd())"
   ]
  },
  {
   "cell_type": "markdown",
   "id": "advisory-thumb",
   "metadata": {},
   "source": [
    "## Create workbook"
   ]
  },
  {
   "cell_type": "code",
   "execution_count": 2,
   "id": "contained-columbus",
   "metadata": {},
   "outputs": [],
   "source": [
    "wb = xlwt.Workbook()\n",
    "ws = wb.add_sheet('Emails')\n",
    "ws.write(0,0,'Emails')"
   ]
  },
  {
   "cell_type": "markdown",
   "id": "structural-produce",
   "metadata": {},
   "source": [
    "## Initialize list and counter"
   ]
  },
  {
   "cell_type": "code",
   "execution_count": 3,
   "id": "floating-glucose",
   "metadata": {},
   "outputs": [],
   "source": [
    "emailList = []\n",
    "r = 0"
   ]
  },
  {
   "cell_type": "markdown",
   "id": "stupid-daniel",
   "metadata": {},
   "source": [
    "## Add URL to search for emails"
   ]
  },
  {
   "cell_type": "code",
   "execution_count": 4,
   "id": "bridal-isolation",
   "metadata": {},
   "outputs": [],
   "source": [
    "# Add url of the page you want to scrape to urlString\n",
    "urlString = 'https://www.zh.ch/de/bildung/schulen.html'\n",
    "# urlString='https://www.agvs-upsa.ch/de/verband/mitgliederverzeichnis/liste'"
   ]
  },
  {
   "cell_type": "markdown",
   "id": "valid-radical",
   "metadata": {},
   "source": [
    "## Function to extract emails and store them in the list"
   ]
  },
  {
   "cell_type": "code",
   "execution_count": 5,
   "id": "tribal-animal",
   "metadata": {},
   "outputs": [],
   "source": [
    "def emailExtractor(urlString):\n",
    "    getH=requests.get(urlString)\n",
    "    h=getH.content\n",
    "    soup=BeautifulSoup(h,'html.parser')\n",
    "    mailtos = soup.select('a[href^=mailto]')\n",
    "    for i in mailtos:\n",
    "        href=i['href']\n",
    "        try:\n",
    "            str1, str2 = href.split(':')\n",
    "        except ValueError:\n",
    "            break\n",
    "        \n",
    "        emailList.append(str2)\n",
    "\n",
    "emailExtractor(urlString)"
   ]
  },
  {
   "cell_type": "code",
   "execution_count": 6,
   "id": "descending-smith",
   "metadata": {},
   "outputs": [
    {
     "name": "stdout",
     "output_type": "stream",
     "text": [
      "<Response [200]>\n"
     ]
    }
   ],
   "source": [
    "# Parts of the function ...\n",
    "getH = requests.get(urlString)\n",
    "print(getH)"
   ]
  },
  {
   "cell_type": "code",
   "execution_count": 7,
   "id": "better-johnston",
   "metadata": {},
   "outputs": [
    {
     "name": "stdout",
     "output_type": "stream",
     "text": [
      "b'\\n\\n\\n\\n\\n\\n\\n\\n\\n\\n<!doctype html>\\n<html lang=\"de\">\\n<head>\\n    <meta charset=\"UTF-8\"/>\\n    <meta http-equiv=\"X-UA-Compatible\" content=\"IE=edge\"/>\\n    <title>Schulen | Kanton Z\\xc3\\xbcrich</title>\\n\\n    <meta content=\"Kanton Z\\xc3\\xbcrich\" property=\"og:site_name\"/>\\n    <meta content=\"Schulen\" property=\"og:title\"/>\\n    <meta content=\"Der Kanton Z\\xc3\\xbcrich hat eine starke \\xc3\\xb6ffentliche Volksschule, ausgezeichnete Mittel- und Berufsfachschulen sowie international anerkannte Hochschulen.\" property=\"og:description\"/>\\n    <meta content=\"website\" property=\"og:type\"/>\\n    <meta content=\"https://www.zh.ch/content/dam/zhweb/bilder-dokumente/footer/social-media-links/kantonzuerich.png.zhweb-transform/open-graph-teaser-image-large/kantonzuerich.1611224633548.png\" property=\"og:image\"/>\\n    <meta content=\"https://www.zh.ch/de/bildung/schulen.html\" property=\"og:url\"/>\\n\\n    <meta name=\"description\" content=\"Der Kanton Z\\xc3\\xbcrich hat eine starke \\xc3\\xb6ffentliche Volksschule, ausgezeichnete Mittel- und Berufsfachschulen sowie internatio'\n"
     ]
    }
   ],
   "source": [
    "# HTML-document\n",
    "h    = getH.content\n",
    "print(h[0:1000])"
   ]
  },
  {
   "cell_type": "code",
   "execution_count": 8,
   "id": "hydraulic-joint",
   "metadata": {},
   "outputs": [],
   "source": [
    "# HTML parse tree\n",
    "soup = BeautifulSoup(h,'html.parser')\n",
    "# print(soup)"
   ]
  },
  {
   "cell_type": "code",
   "execution_count": 9,
   "id": "broad-project",
   "metadata": {},
   "outputs": [
    {
     "name": "stdout",
     "output_type": "stream",
     "text": [
      "[<a class=\"mdl-contact_entry__mail atm-text_link\" href=\"mailto:schule@adliswil.ch\" rel=\"noopener\" target=\"_blank\">\n",
      "                            \n",
      "                            schule<wbr/>@adliswil.ch\n",
      "                        </a>, <a class=\"mdl-contact_entry__mail atm-text_link\" href=\"mailto:praesidiumaesch@nassenmatt.ch\" rel=\"noopener\" target=\"_blank\">\n",
      "                            \n",
      "                            praesidiumaesch<wbr/>@nassenmatt.ch\n",
      "                        </a>, <a class=\"mdl-contact_entry__mail atm-text_link\" href=\"mailto:schulverwaltung@bruelmatt.ch\" rel=\"noopener\" target=\"_blank\">\n",
      "                            \n",
      "                            schulverwaltung<wbr/>@bruelmatt.ch\n",
      "                        </a>]\n"
     ]
    }
   ],
   "source": [
    "# Links containing emails\n",
    "mailtos = soup.select('a[href^=mailto]')\n",
    "print(mailtos[0:3])"
   ]
  },
  {
   "cell_type": "code",
   "execution_count": 10,
   "id": "written-excess",
   "metadata": {},
   "outputs": [
    {
     "data": {
      "text/plain": [
       "'mailto:schule@adliswil.ch'"
      ]
     },
     "execution_count": 10,
     "metadata": {},
     "output_type": "execute_result"
    }
   ],
   "source": [
    "# Get single email\n",
    "href = mailtos[0]['href']\n",
    "href"
   ]
  },
  {
   "cell_type": "code",
   "execution_count": 11,
   "id": "settled-attitude",
   "metadata": {},
   "outputs": [
    {
     "data": {
      "text/plain": [
       "'schule@adliswil.ch'"
      ]
     },
     "execution_count": 11,
     "metadata": {},
     "output_type": "execute_result"
    }
   ],
   "source": [
    "# Splits the string\n",
    "str1, str2 = href.split(':')\n",
    "str2"
   ]
  },
  {
   "cell_type": "markdown",
   "id": "fundamental-unknown",
   "metadata": {},
   "source": [
    "## Print scraped emails and save it in an excel sheet"
   ]
  },
  {
   "cell_type": "code",
   "execution_count": 12,
   "id": "determined-sense",
   "metadata": {},
   "outputs": [
    {
     "name": "stdout",
     "output_type": "stream",
     "text": [
      "schule@adliswil.ch\n",
      "praesidiumaesch@nassenmatt.ch\n",
      "schulverwaltung@bruelmatt.ch\n",
      "schulverwaltung@schule-aeugst.ch\n",
      "schulverwaltung@osa.ch\n",
      "primarschule@stadtaffoltern.ch\n",
      "verwaltung@schulzweckverband.ch\n",
      "schule.altikon@bluewin.ch\n",
      "schulverwaltung@ps-andelfingen.ch\n",
      "schulverwaltung@sek-andelfingen.ch\n",
      "schulverwaltung.bachenbuelach@psbb.ch\n",
      "schulverwaltung@sekbuelach.ch\n",
      "schulverwaltung@primarschule-bachs.ch\n",
      "schulverwaltung@baeretswil.org\n",
      "schulverwaltung@bassersdorf.ch\n",
      "schulverwaltung@schulebauma.ch\n",
      "schulleitung@schulebenken.ch\n",
      "schulverwaltung@primabirmensdorf.ch\n",
      "schulverwaltung@primarschule-bonstetten.ch\n",
      "schulverwaltung@sek-bonstetten.ch\n",
      "schulleitung@schuleboppelsen.ch\n",
      "schulverwaltung@schulebruetten.ch\n",
      "bildung@bubikon.ch\n",
      "schulverwaltung@buchs-zh.ch\n",
      "primarschule@buelach.ch\n",
      "sekretariat@schuledachsen.ch\n",
      "schulverwaltung@primarschule-daegerlen.ch\n",
      "schulverwaltung@leepuent.ch\n",
      "schulverwaltung@schule-rotflue.ch\n",
      "schulverwaltung@schuledaettlikon.ch\n",
      "primarschule@psdielsdorf.ch\n",
      "schulverwaltung@sekdielsdorf.ch\n",
      "schulverwaltung@dietikon.ch\n",
      "schule@dietlikon.org\n",
      "sekretariat@schule-dinhard.ch\n",
      "primarschule@duebendorf.ch\n",
      "schulverwaltung@sek-ds.ch\n",
      "schulabteilung@schuleduernten.ch\n",
      "bildung@egg.ch\n",
      "schulverwaltung@eglisau.ch\n",
      "schulverwaltung@schule-elgg.ch\n",
      "schulverwaltung@sek-elgg.ch\n",
      "verwaltung@schule-ellikon.ch\n",
      "schulverwaltung@sekrickenbach.ch\n",
      "verwaltung@elsauschlatt.ch\n",
      "info@ps.embra.ch\n",
      "info@sek-embra.ch\n",
      "schulverwaltung@erlenbach.ch\n",
      "schulverwaltung@schulefaellanden.ch\n",
      "sekretariat@schulefehraltorf.ch\n",
      "schulverwaltung@schule-feuerthalen.ch\n",
      "schulsekretariat@fischenthal.ch\n",
      "schulverwaltung@schuleflaachtal.ch\n",
      "sekretariat@schule-flurlingen.ch\n",
      "schulverwaltung@schule-glattfelden.ch\n",
      "schulverwaltung@schulegossau-zh.ch\n",
      "schulverwaltung@primgreif.ch\n",
      "sekretariat@schulegrueningen.ch\n",
      "sekretariat@schule-hagenbuch.ch\n",
      "schulverwaltung@hausen.zh.ch\n",
      "schulverwaltung@sekhausen.ch\n",
      "schulverwaltung@hedingen.ch\n",
      "schulverwaltung@schule-henggart.ch\n",
      "schulverwaltung@schule-herrliberg.ch\n",
      "schulverwaltung@gseh.ch\n",
      "verwaltung@schule-hettlingen.ch\n",
      "schulverwaltung@schulehinwil.ch\n",
      "schule@hittnau.ch\n",
      "info@schule-hochfelden.ch\n",
      "schulverwaltung@schulehoeri.ch\n",
      "bea.pfeifer@hombrechtikon.ch\n",
      "schulsekretariat@horgen.ch\n",
      "bildung@ilef.ch\n",
      "schulverwaltung@primarschulekappel.ch\n",
      "schulverwaltung@kilchberg.ch\n",
      "schulverwaltung@campusmoos.ch\n",
      "schulverwaltung@kloten.ch\n",
      "sekretariat@schuleknonau.ch\n",
      "schulverwaltung@sekmaettmi.ch\n",
      "schulverwaltung@schule-kuesnacht.ch\n",
      "schule@langnau.zh.ch\n",
      "schulverwaltung@lindau.ch\n",
      "info@schule-lufingen.ch\n",
      "schule@maennedorf.ch\n",
      "sekretariat@primarschule-marthalen.ch\n",
      "schulleitung@skmarthalen.ch\n",
      "schulverwaltung@tagesschule-maschwanden.ch\n",
      "schule@maur.ch\n",
      "schulverwaltung@schulemeilen.ch\n",
      "schulverwaltung@ps-mettmenstetten.ch\n",
      "schulpflege@moenchaltorf.ch\n",
      "schulverwaltung@oswueri.ch\n",
      "schulverwaltung@primarschule-neerach.ch\n",
      "schulverwaltung@schule-neftenbach.ch\n",
      "schulverwaltung@primarschule-niederglatt.ch\n",
      "schule@eduzis.ch\n",
      "primarschule@niederhasli.ch\n",
      "monika.manfredi@nuerensdorf.ch\n",
      "schulverwaltung@schule-oberembrach.ch\n",
      "info@sek-embra.ch\n",
      "schulverwaltung@oberengstringen.ch\n",
      "primarschule@oberglatt.zh.ch\n",
      "schulverwaltung@sekro.ch\n",
      "nadja.juon@oberrieden.ch\n",
      "schulverwaltung@primarobfelden.ch\n",
      "schulverwaltung@sek-obfelden.ch\n",
      "schulverwaltung@schule-oetwil.ch\n",
      "schulverwaltung@psog.ch\n",
      "schule@opfikon.ch\n",
      "schulverwaltung@ps-ossingen.ch\n",
      "schulverwaltung@sekossingen.ch\n",
      "schulpflege@ps-o.ch\n",
      "sekretariat@sekuf.ch\n",
      "schulverwaltung@ps-ottenbach.ch\n",
      "schule@pfaeffikon.ch\n",
      "schulverwaltung@schulepfungen.ch\n",
      "schule.verwaltung@rafz.ch\n",
      "k.rehberg@web.de\n",
      "verwaltung@ps-regensdorf.ch\n",
      "patrick.schmid@sek-regensdorf.ch\n",
      "praesidium@primarschule-rheinau.ch\n",
      "schule@richterswil.ch\n",
      "schulverwaltung@primarschule-rickenbach.ch\n",
      "schulverwaltung@sekrickenbach.ch\n",
      "schulverwaltung@schule-rifferswil.ch\n",
      "sv@schule-rft.ch\n",
      "schulverwaltung@psruemlang.ch\n",
      "schulverwaltung@sekro.ch\n",
      "schulverwaltung@rueschlikon.ch\n",
      "schulverwaltung@schule-rueti.ch\n",
      "schulverwaltung@russikon.ch\n",
      "schule@schlieren.ch\n",
      "zora.mangold@schule-schwerzenbach.ch\n",
      "schulverwaltung@seegraeben.ch\n",
      "sekretariat@primarschule-seuzach.ch\n",
      "schulverwaltung@sekseuzach.ch\n",
      "sekretariat@primarschule-stadel.ch\n",
      "sekretariat@oberstufe-stadel.ch\n",
      "barbara.leuenberger@schulestaefa.ch\n",
      "schulverwaltung@schule-stallikon.ch\n",
      "schulverwaltung@stammheim.ch\n",
      "schulverwaltung@steinmaur.zh.ch\n",
      "cornelia.schumacher@schule-thalheim.ch\n",
      "schulverwaltung@sek-andelfingen.ch\n",
      "bildung@thalwil.ch\n",
      "praesidium@schule-truellikon.ch\n",
      "schulleitung@skmarthalen.ch\n",
      "daniel.hangartner@pstruttikon.ch\n",
      "sekretariat@primarschule-turbenthal.ch\n",
      "schulverwaltung@sektw.ch\n",
      "schulverwaltung@schule-uetikon.ch\n",
      "sekretariat@ps-uhwiesen.ch\n",
      "sekretariat@seku.ch\n",
      "schulverwaltung@schule-uitikon.ch\n",
      "schulverwaltung@ps-buel.ch\n",
      "schulverwaltung@schule-ur.ch\n",
      "hans.karrer@urdorf.ch\n",
      "ps@uster.ch\n",
      "info@sekuster.ch\n",
      "schule@volketswil.ch\n",
      "primarschule@waedenswil.ch\n",
      "sekretariat@oswaedenswil.ch\n",
      "schulverwaltung@schule-wald.ch\n",
      "kontakt@schule.wallisellen.ch\n",
      "schule@wangen-bruettisellen.ch\n",
      "info@schulewehntal.ch\n",
      "schulverwaltung@schule-weiach.ch\n",
      "sekretariat@oberstufe-stadel.ch\n",
      "schulverwaltung@weiningen.ch\n",
      "sekretariat@oberstufeweiningen.ch\n",
      "schulverwaltung@schuleweisslingen.ch\n",
      "verwaltung@schulewettswil.ch\n",
      "schulverwaltung@wetzikon.ch\n",
      "sekundarschule@wetzikon.ch\n",
      "schulverwaltung@swibe.ch\n",
      "sekretariat@pswila.ch\n",
      "sekretariat@sekwila.ch\n",
      "sekretariat@schuwi.ch\n",
      "schulverwaltung@sektw.ch\n",
      "verwaltung@schulen-winkel.ch\n",
      "schulverwaltung@zell.ch\n",
      "info@schulezollikon.ch\n",
      "ksb-glattal.info@zuerich.ch\n",
      "ksb-letzi.info@zuerich.ch\n",
      "ksb-limmattal.info@zuerich.ch\n",
      "ksb-schwamendingen.info@zuerich.ch\n",
      "ksb-uto.info@zuerich.ch\n",
      "ksb-waidberg.info@zuerich.ch\n",
      "ksb-zuerichberg.info@zuerich.ch\n",
      "info@schule-zumikon.ch\n",
      "schulpflege@win.ch\n",
      "info@bi.zh.ch\n"
     ]
    }
   ],
   "source": [
    "for email in emailList:\n",
    "    r=r+1\n",
    "    ws.write(r,0,email)\n",
    "    print(email)\n",
    "wb.save('emails.xls')"
   ]
  },
  {
   "attachments": {},
   "cell_type": "markdown",
   "id": "562a0720",
   "metadata": {},
   "source": [
    "### Jupyter notebook --footer info-- (please always provide this at the end of each notebook)"
   ]
  },
  {
   "cell_type": "code",
   "execution_count": 13,
   "id": "269243db",
   "metadata": {},
   "outputs": [
    {
     "name": "stdout",
     "output_type": "stream",
     "text": [
      "-----------------------------------\n",
      "POSIX\n",
      "Linux | 6.5.0-1025-azure\n",
      "Datetime: 2024-11-09 18:02:12\n",
      "Python Version: 3.11.10\n",
      "-----------------------------------\n"
     ]
    }
   ],
   "source": [
    "import os\n",
    "import platform\n",
    "import socket\n",
    "from platform import python_version\n",
    "from datetime import datetime\n",
    "\n",
    "print('-----------------------------------')\n",
    "print(os.name.upper())\n",
    "print(platform.system(), '|', platform.release())\n",
    "print('Datetime:', datetime.now().strftime(\"%Y-%m-%d %H:%M:%S\"))\n",
    "print('Python Version:', python_version())\n",
    "print('-----------------------------------')"
   ]
  }
 ],
 "metadata": {
  "kernelspec": {
   "display_name": "Python 3",
   "language": "python",
   "name": "python3"
  },
  "language_info": {
   "codemirror_mode": {
    "name": "ipython",
    "version": 3
   },
   "file_extension": ".py",
   "mimetype": "text/x-python",
   "name": "python",
   "nbconvert_exporter": "python",
   "pygments_lexer": "ipython3",
   "version": "3.11.10"
  }
 },
 "nbformat": 4,
 "nbformat_minor": 5
}
